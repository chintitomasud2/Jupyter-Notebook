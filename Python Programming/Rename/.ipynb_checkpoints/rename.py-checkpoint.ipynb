{
 "cells": [
  {
   "cell_type": "code",
   "execution_count": 2,
   "metadata": {},
   "outputs": [],
   "source": [
    "import os\n",
    "\n",
    "os.chdir(\"R:\\\\Rifat\")\n",
    "\n",
    "for f in os.listdir():\n",
    "    file_name,file_ext=os.path.splitext(f)\n",
    "\n",
    "    f_coureid,f_chapter,f_file,f_random,f_name=file_name.split('_')\n",
    "\n",
    "    new_name='{}-{}-{}{}'.format(f_chapter,f_file,f_name,file_ext)\n",
    "    os.rename(f,new_name)\n",
    "    \n",
    "    #print(new_name)"
   ]
  },
  {
   "cell_type": "code",
   "execution_count": null,
   "metadata": {},
   "outputs": [],
   "source": []
  }
 ],
 "metadata": {
  "kernelspec": {
   "display_name": "Python 3",
   "language": "python",
   "name": "python3"
  },
  "language_info": {
   "codemirror_mode": {
    "name": "ipython",
    "version": 3
   },
   "file_extension": ".py",
   "mimetype": "text/x-python",
   "name": "python",
   "nbconvert_exporter": "python",
   "pygments_lexer": "ipython3",
   "version": "3.6.3"
  }
 },
 "nbformat": 4,
 "nbformat_minor": 2
}
