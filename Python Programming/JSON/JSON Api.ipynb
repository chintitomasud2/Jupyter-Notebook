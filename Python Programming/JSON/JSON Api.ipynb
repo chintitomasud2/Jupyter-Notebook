{
 "cells": [
  {
   "cell_type": "code",
   "execution_count": null,
   "metadata": {},
   "outputs": [],
   "source": [
    "import urllib.parse\n",
    "import requests\n"
   ]
  },
  {
   "cell_type": "code",
   "execution_count": null,
   "metadata": {},
   "outputs": [],
   "source": [
    " #  #element Request module ar maddome niye then json e conversion kora  hoache\n",
    "\n",
    "main_api='http://maps.google.com/maps/api/geocode/json?'\n",
    "address='lhr'\n",
    "url=main_api+urllib.parse.urlencode({'address':address})\n",
    "json_data=requests.get(url).json()\n",
    "print(json_data)\n",
    "\n",
    "#"
   ]
  },
  {
   "cell_type": "code",
   "execution_count": null,
   "metadata": {},
   "outputs": [],
   "source": [
    "Youtube Link : https://www.youtube.com/watch?v=g4wdm488mkE"
   ]
  },
  {
   "cell_type": "markdown",
   "metadata": {},
   "source": [
    "Another example using github json file"
   ]
  },
  {
   "cell_type": "code",
   "execution_count": null,
   "metadata": {},
   "outputs": [],
   "source": [
    "again='https://gist.githubusercontent.com/planetoftheweb/2c2f3b03b72a7f2ae923/raw/d0236fd0a945fdac7acd463f268bd20ebe4d766c/data.json'\n",
    "json_data2=requests.get(again).json()\n",
    "print(json_data2)"
   ]
  },
  {
   "cell_type": "code",
   "execution_count": 8,
   "metadata": {},
   "outputs": [
    {
     "name": "stdout",
     "output_type": "stream",
     "text": [
      "Api status :OK\n"
     ]
    }
   ],
   "source": [
    "print(\"Api status :\"+json_data['status'])"
   ]
  },
  {
   "cell_type": "code",
   "execution_count": 10,
   "metadata": {},
   "outputs": [
    {
     "name": "stdout",
     "output_type": "stream",
     "text": [
      "Heathrow Airport (LHR), Longford TW6, UK\n"
     ]
    }
   ],
   "source": [
    "formatted_address=json_data['results'][0]['formatted_address']\n",
    "print(formatted_address)"
   ]
  },
  {
   "cell_type": "markdown",
   "metadata": {},
   "source": [
    "#Iterating Through JSON Data in Python\n",
    "\n"
   ]
  }
 ],
 "metadata": {
  "kernelspec": {
   "display_name": "Python 3",
   "language": "python",
   "name": "python3"
  },
  "language_info": {
   "codemirror_mode": {
    "name": "ipython",
    "version": 3
   },
   "file_extension": ".py",
   "mimetype": "text/x-python",
   "name": "python",
   "nbconvert_exporter": "python",
   "pygments_lexer": "ipython3",
   "version": "3.6.3"
  }
 },
 "nbformat": 4,
 "nbformat_minor": 2
}
