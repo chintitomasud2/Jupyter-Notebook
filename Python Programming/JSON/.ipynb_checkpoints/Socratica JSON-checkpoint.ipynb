{
 "cells": [
  {
   "cell_type": "markdown",
   "metadata": {},
   "source": [
    "json.load(f) : load json data from file(or file like object)\n",
    "json.loads(s) : load JSOn data from a string (s means string)\n",
    "json.dump(j,f) : write Json object to fileor file like object\n",
    "josn.dumps(j) :Output json object as string "
   ]
  },
  {
   "cell_type": "code",
   "execution_count": 21,
   "metadata": {},
   "outputs": [
    {
     "name": "stdout",
     "output_type": "stream",
     "text": [
      "{'name': 'chintiotmasud', 'haire': 'False'}\n"
     ]
    }
   ],
   "source": [
    "import json\n",
    "value={\n",
    "        \"name\":\"chintiotmasud\",\n",
    "        \"haire\":\"Falsea\"\n",
    "    \n",
    "      }\n",
    "      \n",
    "#troy=json.loads(value)\n",
    "print(troy)\n"
   ]
  },
  {
   "cell_type": "code",
   "execution_count": null,
   "metadata": {},
   "outputs": [],
   "source": []
  },
  {
   "cell_type": "code",
   "execution_count": null,
   "metadata": {},
   "outputs": [],
   "source": []
  },
  {
   "cell_type": "code",
   "execution_count": null,
   "metadata": {},
   "outputs": [],
   "source": []
  }
 ],
 "metadata": {
  "kernelspec": {
   "display_name": "Python 3",
   "language": "python",
   "name": "python3"
  },
  "language_info": {
   "codemirror_mode": {
    "name": "ipython",
    "version": 3
   },
   "file_extension": ".py",
   "mimetype": "text/x-python",
   "name": "python",
   "nbconvert_exporter": "python",
   "pygments_lexer": "ipython3",
   "version": "3.6.3"
  }
 },
 "nbformat": 4,
 "nbformat_minor": 2
}
