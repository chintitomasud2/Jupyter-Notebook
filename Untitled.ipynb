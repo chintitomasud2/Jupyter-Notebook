{
 "cells": [
  {
   "cell_type": "code",
   "execution_count": 20,
   "metadata": {},
   "outputs": [
    {
     "name": "stdout",
     "output_type": "stream",
     "text": [
      "Salmanhigh resolution images - Google অনুসন্ধান#gbar,#guser{font-size:13px;padding-top:1px !important;}#gbar{height:22px}#guser{padding-bottom:7px !important;text-align:right}.gbh,.gbd{border-top:1px solid #c9d7f1;font-size:1px}.gbh{height:0;position:absolute;top:24px;width:100%}@media all{.gb1{height:22px;margin-right:.5em;vertical-align:top}#gbar{float:left}}a.gb1,a.gb4{text-decoration:underline !important}a.gb1,a.gb4{color:#00c !important}.gbi .gb4{color:#dd8e27 !important}.gbf .gb4{color:#900 !important} .star{float:left;margin-top:1px;overflow:hidden}._yhd{font-size:11px}.j{width:34em}body,td,div,.p,a{font-family:arial,sans-serif;tap-highlight-color:rgba(255,255,255,0)}body{margin:0}a img{border:0}#gbar{float:left;height:22px;padding-left:2px;font-size:13px}.gsfi,.gsfs{font-size:17px}.w,.q:active,.q:visited,.tbotu{color:#11c}a.gl{text-decoration:none}#foot{padding:0 8px}#foot a{white-space:nowrap}h3{font-size:16px;font-weight:normal;margin:0;padding:0}#res h3{display:inline}.hd{height:1px;position:absolute;top:-1000em}.g,body,html,table,.std{font-size:13px}.g{margin-bottom:23px;margin-top:0;zoom:1}ol li,ul li{list-style:none}h1,ol,ul,li{margin:0;padding:0}.e{margin:2px 0 0.75em}#leftnav a{text-decoration:none}#leftnav h2{color:#767676;font-weight:normal;margin:0}#nav{border-collapse:collapse;margin-top:17px;text-align:left}#nav td{text-align:center}.nobr{white-space:nowrap}.ts{border-collapse:collapse}.s br{display:none}.csb{display:block;height:40px}.images_table td{line-height:17px;padding-bottom:16px}.images_table img{border:1px solid #ccc;padding:1px}#tbd,#abd{display:block;min-height:1px}#abd{padding-top:3px}#tbd li{display:inline}._ITd,._JTd{margin-bottom:8px}#tbd .tbt li{display:block;font-size:13px;line-height:1.2;padding-bottom:3px;padding-left:8px;text-indent:-8px}.tbos,.b{font-weight:bold}em{font-weight:bold;font-style:normal}.mime{color:#1a0dab;font-weight:bold;font-size:x-small}.soc a{text-decoration:none}.soc{color:#808080}._kgd{color:#e7711b}#_vBb{border:1px solid #e0e0e0;margin-left:-8px;margin-right:-8px;padding:15px 20px 5px}._m3b{font-size:32px}._eGc{color:#777;font-size:16px;margin-top:5px}._H0d{color:#777;font-size:14px;margin-top:5px}._HLh{border:1px solid #e0e0e0;padding-left:20px}._Tki{border:1px solid #e0e0e0;padding:5px 20px}#vob{border:1px solid #e0e0e0;padding:15px 15px}#_Nyc{font-size:22px;line-height:22px;padding-bottom:5px}#vob_st{line-height:1.24}._Tsb{border-width:1px;border-style:solid;border-color:#eee;background-color:#fff;position:relative;margin-bottom:26px}._Peb,._Qeb,._Usb{font-family:Arial;font-weight:lighter}._Peb{margin-bottom:5px}._Peb{font-size:xx-large}._Qeb{font-size:medium}._Usb{font-size:small}._Tsb{margin-left:-8px;margin-right:-15px;padding:20px 20px 24px}._rOc{border-spacing:0px 2px}._sOc{max-width:380px;text-overflow:ellipsis;white-space:nowrap;overflow:hidden;padding-left:0px}._v9b{padding-left:15px;white-space:nowrap;color:#666}._pOc{padding-left:0px}._rkc{color:#212121}._HOb{color:#878787}._lMf{color:#093}._jMf{color:#c00}._kMf{padding:1px}._CKg{color:#dd4b39}.gssb_a{padding:0 10px !important}.gssb_c{left:132px !important;right:295px !important;top:78px !important;width:572px !important}.gssb_c table{font-size:16px !important}.gssb_e{border:1px solid #ccc !important;border-top-color:#d9d9d9 !important}.gssb_i{background:#eee !important}#res{padding:0 8px}#rhs_block{padding-top:43px}#_FQd{padding:0 8px}#subform_ctrl{font-size:11px;height:17px;margin:5px 3px 0 17px}.taf{padding-bottom:3px}._chd{padding:20px 0 3px}._bhd{padding:20px 0 3px}#topstuff .e{padding-bottom:6px}.slk .sld{width:250px}.slk{margin-bottom:-3px}.slk ._z3b{padding-bottom:5px;width:250px}.ac,.st{line-height:1.24}.mfr,#ofr{font-size:16px;margin:1em 0;padding:0 8px}._tLi{padding-bottom:25px}.s{color:#545454}.ac{color:#545454}a.fl,._cD a,.osl a{color:#1a0dab;text-decoration:none}a:link{color:#1a0dab;cursor:pointer}#tads a:link{color:#1a0dab}#tads .soc a:link{color:#808080}a:visited{color:#61C}.blg a{text-decoration:none}cite,cite a:link{color:#006621;font-style:normal}#tads cite{color:#006621}.kv{font-size:15px}.kvs{margin-top:1px}.kv,.kvs,.slp{display:block;margin-bottom:1px}.kt{border-spacing:2px 0;margin-top:1px}.f{color:#808080}._pJb{color:#093}h4.r{display:inline;font-size:small;font-weight:normal}.g{line-height:1.2}._sPb{display:inline-block;vertical-align:top;overflow:hidden;position:relative}._Gnc{margin:0 0 2em 1.3em}._Gnc li{list-style-type:disc}.osl{color:#777;margin-top:4px}.r{font-size:16px;margin:0}.spell{font-size:16px}.spell_orig{font-size:13px}.spell_orig a{text-decoration:none}.spell_orig b i{font-style:normal;font-weight:normal}.th{border:1px solid #ebebeb}.ts td{padding:0}.videobox{padding-bottom:3px}.slk a{text-decoration:none}#leftnav a:hover,#leftnav .tbou a:hover,.slk h3 a,a:hover{text-decoration:underline}#mn{table-layout:fixed;width:100%}#leftnav a{color:#222;font-size:13px}#leftnav{padding:43px 4px 4px 0}.tbos{color:#dd4b39}.tbt{margin-bottom:28px}#tbd{padding:0 0 0 16px}.tbou a{color:#222}#center_col{border:0;padding:0 8px 0 0}#topstuff .e{padding-top:3px}#topstuff .sp_cnt{padding-top:6px}#ab_name{color:#dd4b39;font:20px \"Arial\";margin-left:15px}#resultStats{color:#999;font-size:13px;overflow:hidden;white-space:nowrap}.mslg>td{padding-right:1px;padding-top:2px}.slk .sld{margin-top:2px;padding:5px 0 5px 5px}.fmp{padding-top:3px}.close_btn{overflow:hidden}#fll a,#bfl a{color:#1a0dab !important;margin:0 12px;text-decoration:none !important}.ng{color:#dd4b39}#mss{margin:.33em 0 0;padding:0;display:table}._mY{display:inline-block;float:left;white-space:nowrap;padding-right:16px}#mss p{margin:0;padding-top:5px}.tn{border-bottom:1px solid #ebebeb;display:block;float:left;height:59px;line-height:54px;min-width:980px;padding:0;position:relative;white-space:nowrap}._UXb,a._UXb{color:#777;cursor:pointer;display:inline-block;font-family:arial,sans-serif;font-size:small;height:54px;line-height:54px;margin:0 8px;padding:0 8px;text-decoration:none;white-space:nowrap}._Ihd{border-bottom:3px solid #dd4b39;color:#dd4b39;font-weight:bold;margin:2px 8px 0}a._Jhd:hover{color:black;text-decoration:none;white-space:nowrap}body{margin:0;padding:0}._sxc{display:inline-block;float:left;margin-top:2px}._Hhd,a._Hhd{margin-left:1px}.sd{line-height:43px;padding:0 8px 0 9px}a:active,.osl a:active,.tbou a:active,#leftnav a:active{color:#dd4b39}#bfl a:active{color:#dd4b39 !important}.csb{background:url(/images/nav_logo229.png) no-repeat;overflow:hidden}.close_btn{background:url(/images/nav_logo229.png) no-repeat -138px -84px;height:14px;width:14px;display:block}.star{background:url(/images/nav_logo229.png) no-repeat -94px -245px;height:13px;width:65px;display:block}.star div,.star span{background:url(/images/nav_logo229.png) no-repeat 0 -245px;height:13px;width:65px;display:block}._nBb{display:inline;margin:0 3px;outline-color:transparent;overflow:hidden;position:relative}._nBb>div{outline-color:transparent}._O0{border-color:transparent;border-style:solid dashed dashed;border-top-color:green;border-width:4px 4px 0 4px;cursor:pointer;display:inline-block;font-size:0;height:0;left:4px;line-height:0;outline-color:transparent;position:relative;top:-3px;width:0}._O0{margin-top:-4px}.am-dropdown-menu{display:block;background:#fff;border:1px solid #dcdcdc;font-size:13px;left:0;padding:0;position:absolute;right:auto;white-space:nowrap;z-index:3}._Ykb{list-style:none;white-space:nowrap}._Ykb:hover{background-color:#eee}a._Zkb{color:#333;cursor:pointer;display:block;padding:7px 18px;text-decoration:none}#tads a._Zkb{color:#333}.sfbgg{background:#f1f1f1;border-bottom:1px solid #e5e5e5;height:71px}#logocont{z-index:1;padding-left:4px;padding-top:4px}#logo{display:block;height:49px;margin-top:12px;margin-left:12px;overflow:hidden;position:relative;width:137px}#logo img{left:0;position:absolute;top:-41px}.lst-a{background:white;border:1px solid #d9d9d9;border-top-color:silver;width:570px}.lst-a:hover{border:1px solid #b9b9b9;border-top:1px solid #a0a0a0;box-shadow:inset 0 1px 2px rgba(0,0,0,0.1);-webkit-box-shadow:inset 0 1px 2px rgba(0,0,0,0.1);-moz-box-shadow:inset 0 1px 2px rgba(0,0,0,0.1)}.lst-td{border:none;padding:0}.tia input{border-right:none;padding-right:0}.tia{padding-right:0}.lst{background:none;border:none;color:#000;font:16px arial,sans-serif;float:left;height:22px;margin:0;padding:3px 6px 2px 9px;vertical-align:top;width:100%;word-break:break-all}.lst:focus{outline:none}.lst-b{background:none;border:none;height:26px;padding:0 6px 0 12px}.ds{border-right:1px solid #e7e7e7;position:relative;height:29px;margin-left:17px;z-index:100}.lsbb{background-image:-moz-linear-gradient(top,#4d90fe,#4787ed);background-image:-ms-linear-gradient(top,#4d90fe,#4787ed);background-image:-o-linear-gradient(top,#4d90fe,#4787ed);background-image:-webkit-gradient(linear,left top,left bottom,from(#4d90fe),to(#4787ed));background-image:-webkit-linear-gradient(top,#4d90fe,#4787ed);background-image:linear-gradient(top,#4d90fe,#4787ed);border:1px solid #3079ed;border-radius:2px;background-color:#4d90fe;height:27px;width:68px}.lsbb:hover{background-image:-moz-linear-gradient(top,#4d90fe,#357ae8);background-image:-ms-linear-gradient(top,#4d90fe,#357ae8);background-image:-o-linear-gradient(top,#4d90fe,#357ae8);background-image:-webkit-gradient(linear,left top,left bottom,from(#4d90fe),to(#357ae8));background-image:-webkit-linear-gradient(top,#4d90fe,#357ae8);background-color:#357ae8;background-image:linear-gradient(top,#4d90fe,#357ae8);border:1px solid #2f5bb7}.lsb{background:transparent;background-position:0 -343px;background-repeat:repeat-x;border:none;color:#000;cursor:default;font:15px arial,sans-serif;height:29px;margin:0;vertical-align:top;width:100%}.lsb:active{-moz-box-shadow:inset 0 1px 2px rgba(0,0,0,0.3);-webkit-box-shadow:inset 0 1px 2px rgba(0,0,0,0.3);box-shadow:inset 0 1px 2px rgba(0,0,0,0.3);background:transparent;color:transparent;overflow:hidden;position:relative;width:100%}.sbico{color:transparent;display:inline-block;height:15px;margin:0 auto;margin-top:2px;width:15px;overflow:hidden}(function(){window.google={kEI:'0V8UWonoIcTkvgSo1Yf4Dg',kEXPI:'201794,1301800,1354277,1354690,1354723,1354915,1355220,1355673,1355735,1355793,1355922,1356031,1356079,1356081,1356347,1356470,1356554,1356697,3700319,3700439,3700440,3700489,4029815,4031109,4043492,4045841,4048347,4076999,4077777,4081039,4081164,4093169,4095910,4097147,4097922,4097929,4098721,4098728,4098752,4102238,4103475,4103845,4103861,4104258,4109316,4109490,4113217,4114597,4116351,4116724,4116731,4116926,4116935,4117328,4117980,4118227,4118798,4120281,4120415,4120660,4121035,4121518,4122382,4123645,4123830,4123850,4124090,4124334,4124726,4124850,4125837,4126205,4127744,4128378,4128586,4128622,4129001,4129520,4129555,4129633,4130560,4131834,4132126,4132349,4132956,4133090,4133114,4133416,4133967,4134269,4134919,4134946,4135088,4135249,4135576,4135744,4136073,4136137,4136235,4136315,4137098,4137110,4137461,4137463,4137597,4137646,4138246,4138341,4138432,4138799,4139435,4139701,4140117,4140153,4140157,4140241,4140797,4141049,4141065,4141183,4141411,4141581,4141696,4141726,4141740,4142236,4142328,4142333,4142503,4142610,4142633,4142657,4143131,4143157,10200083,10200096,10202445,10202524,10202535,10202542,10202562',authuser:0,kscs:'c9c918f0_0V8UWonoIcTkvgSo1Yf4Dg',u:'c9c918f0',kGL:'BD'};google.kHL='bn';})();(function(){google.lc=[];google.li=0;google.getEI=function(a){for(var b;a&&(!a.getAttribute||!(b=a.getAttribute(\"eid\")));)a=a.parentNode;return b||google.kEI};google.getLEI=function(a){for(var b=null;a&&(!a.getAttribute||!(b=a.getAttribute(\"leid\")));)a=a.parentNode;return b};google.https=function(){return\"https:\"==window.location.protocol};google.ml=function(){return null};google.wl=function(a,b){try{google.ml(Error(a),!1,b)}catch(d){}};google.time=function(){return(new Date).getTime()};google.log=function(a,b,d,c,g){if(a=google.logUrl(a,b,d,c,g)){b=new Image;var e=google.lc,f=google.li;e[f]=b;b.onerror=b.onload=b.onabort=function(){delete e[f]};google.vel&&google.vel.lu&&google.vel.lu(a);b.src=a;google.li=f+1}};google.logUrl=function(a,b,d,c,g){var e=\"\",f=google.ls||\"\";d||-1!=b.search(\"&ei=\")||(e=\"&ei=\"+google.getEI(c),-1==b.search(\"&lei=\")&&(c=google.getLEI(c))&&(e+=\"&lei=\"+c));c=\"\";!d&&google.cshid&&-1==b.search(\"&cshid=\")&&(c=\"&cshid=\"+google.cshid);a=d||\"/\"+(g||\"gen_204\")+\"?atyp=i&ct=\"+a+\"&cad=\"+b+e+f+\"&zx=\"+google.time()+c;/^http:/i.test(a)&&google.https()&&(google.ml(Error(\"a\"),!1,{src:a,glmm:1}),a=\"\");return a};}).call(this);(function(){google.y={};google.x=function(a,b){if(a)var c=a.id;else{do c=Math.random();while(google.y[c])}google.y[c]=[a,b];return!1};google.lm=[];google.plm=function(a){google.lm.push.apply(google.lm,a)};google.lq=[];google.load=function(a,b,c){google.lq.push([[a],b,c])};google.loadAll=function(a,b){google.lq.push([a,b])};}).call(this);google.f={};(function(){var b={gen204:\"dcl\",clearcut:4};var c=[function(){google.c&&google.tick(\"load\",b)}];google.dcl=!1;google.dclc=function(a){google.dcl?a():c.push(a)};function d(){if(!google.dcl){google.dcl=!0;for(var a;a=c.shift();)a()}}window.addEventListener?(document.addEventListener(\"DOMContentLoaded\",d,!1),window.addEventListener(\"load\",d,!1)):window.attachEvent&&window.attachEvent(\"onload\",d);}).call(this);(function(){google.sham=function(c){for(var d=c.parentElement,a=null,b=0;b<d.childNodes.length;b++){var e=d.childNodes[b];-1<(\" \"+e.className+\" \").indexOf(\" am-dropdown-menu \")&&(a=e)}\"none\"==a.style.display?(a.style.display=\"\",google.log(\"hpam\",\"&ved=\"+c.getAttribute(\"data-ved\"))):a.style.display=\"none\"};}).call(this);(function(){var a=[];google.jsc={xx:a,x:function(b){a.push(b)}};}).call(this);অনুসন্ধান ছবি ম্যাপ সংবাদ Gmail ড্রাইভ ক্যালেণ্ডার অনুবাদ অনুসন্ধানের ইতিহাস | সেটিংস | প্রবেশ করুন সমস্ত কিছুছবিভিডিওগুলিসংবাদম্যাপপুস্তকসমূহ._Bu,._Bu a:link,._Bu a:visited,a._Bu:link,a._Bu:visited{color:#808080}._kBb{color:#61C}.ellip{overflow:hidden;text-overflow:ellipsis;white-space:nowrap}Search Optionsযেকোন মাপবৃহত্মাঝারিআইকনযেকোন রঙপূর্ণ রঙসাদা ও কালোস্বচ্ছযে কোনও প্রকারেরমুখফটোক্লিপ আর্টরেখা অঙ্কনঅ্যানিমেশন করাযেকোনও সময় বিগত 24 ঘণ্টা গত সপ্তাহলাইসেন্স অনুযায়ী ফিল্টার করা নয়সংশোধন সহ পুনঃব্যবহারের জন্য লেবেলযুক্তপুনঃব্যবহারের জন্য লেবেলযুক্তসংশোধন সহ অবাণিজ্যিকভাবে পুনঃব্যবহারের জন্য লেবেলযুক্তঅবাণিজ্যিকভাবে পুনঃব্যবহারের জন্য লেবেলযুক্তসরঞ্জামগুলি আবার সেট করুনপ্রায় ২,৫২০টি ফলাফলআপনি কি বোঝাতে চেয়েছেন: Salmen High resolution imagesdulquarsalmanfansndd.b...Dulqur Salman High resolution photos | Dulquar Salman fans1543×1600-346k - jpgdulquarsalmanfansndd.b...Dulqur Salman High resolution photos | Dulquar Salman fans1600×1527-658k - jpgprokerala.comDulquer Salman Wallpapers | Dulquer Salman Pics & Photo Gallery ...1920×1080-659k - jpgusefulstooges.comJagdish Baghwati – Useful Stooges2500×3044-508k - jpgmalayalamfun.co.in30 Best Handsome Stills Of Dulquer Salman Malayalam Actor ...980×640-81k - jpgwallpapersdsc.netSalman Khan Wallpapers High Resolution and Quality Download1920×1080-187k - jpgnewsworld.pkRoadside bomb kills nine policemen in northern Afghanistan | NEWSWORLD630×290-88k - jpgglamsham.comSalman Khan high resolution image 31872 - Glamsham.1280×960-208k - jpgtheplace2.ruSalman Khan photo gallery - high quality pics of Salman Khan ...1715×1139-1294k - jpgdulquarsalmanfansndd.b...Dulqur Salman High resolution photos | Dulquar Salman fans1200×630-114k - jpgglamsham.comSalman Khan high resolution image 31872 - Glamsham.1280×960-203k - jpgdulquarsalmanfansndd.b...Dulquar Salman fans | Dulquar Salman fans1200×630-194k - jpgprokerala.comDulquer Salman Wallpapers | Dulquer Salman Pics & Photo Gallery ...1920×1080-1334k - jpgprokerala.comDulquar Salman High Quality Wallpaper1920×1080-700k - jpgzimbio.comKing Salman Pictures, Photos & Images - Zimbio1024×653-191k - jpgprokerala.comDulquar Salman High Quality Wallpaper1920×1080-731k - jpgindiaslatest.comSalman Khan Images, Photos, Pics & HD Wallpapers Download1920×1080-378k - jpgindiaslatest.comSalman Khan Images, Photos, Pics & HD Wallpapers Download1920×1080-221k - jpgguoguiyan.comSalman Khan Wallpapers, Interesting Salman Khan HDQ Images ...1024×768-132k - jpgalummahworld.comAll News - AlummahWorld565×738-78k - jpg12345678910পরবর্তীউন্নত অনুসন্ধানGoogle ছবি অনুসন্ধান হোম সাহায্য প্রতিক্রিয়া পাঠানGoogle-এর মূল পৃষ্ঠা বিজ্ঞাপন কর্মসূচী গোপনীয়তা শর্তাদি Google সম্বন্ধে(function(){var eventid='0V8UWonoIcTkvgSo1Yf4Dg';google.kEI = eventid;})();google.ac&&google.ac.c({\"agen\":true,\"cgen\":true,\"client\":\"img\",\"dh\":true,\"dhqt\":true,\"ds\":\"i\",\"host\":\"google.com\",\"isbh\":28,\"jam\":0,\"jsonp\":true,\"msgs\":{\"cibl\":\"&#2437;&#2472;&#2497;&#2488;&#2472;&#2509;&#2471;&#2494;&#2472; &#2488;&#2494;&#2475; &#2453;&#2480;&#2497;&#2472;\",\"dym\":\"&#2438;&#2474;&#2472;&#2495; &#2453;&#2495; &#2476;&#2507;&#2461;&#2494;&#2468;&#2503; &#2458;&#2503;&#2527;&#2503;&#2459;&#2503;&#2472;:\",\"lcky\":\"&#2477;&#2494;&#2455;&#2509;&#2479;&#2476;&#2494;&#2472; &#2437;&#2472;&#2497;&#2477;&#2476; &#2453;&#2480;&#2459;&#2495;\",\"lml\":\"&#2438;&#2480;&#2451; &#2460;&#2494;&#2472;&#2497;&#2472;\",\"oskt\":\"&#2439;&#2472;&#2474;&#2497;&#2463; &#2463;&#2497;&#2482;\",\"psrc\":\"&#2437;&#2472;&#2497;&#2488;&#2472;&#2509;&#2471;&#2494;&#2472;&#2463;&#2495; &#2438;&#2474;&#2472;&#2494;&#2480; \\u003Ca href=\\\"/history\\\"\\u003E&#2451;&#2527;&#2503;&#2476; &#2439;&#2468;&#2495;&#2489;&#2494;&#2488;\\u003C/a\\u003E &#2469;&#2503;&#2453;&#2503; &#2488;&#2480;&#2494;&#2472;&#2507; &#2459;&#2495;&#2482;\",\"psrl\":\"&#2488;&#2480;&#2494;&#2472;\",\"sbit\":\"&#2459;&#2476;&#2495; &#2437;&#2472;&#2497;&#2488;&#2494;&#2480;&#2503; &#2488;&#2472;&#2509;&#2471;&#2494;&#2472; &#2453;&#2480;&#2497;&#2472;\",\"srch\":\"Google &#2437;&#2472;&#2497;&#2488;&#2472;&#2509;&#2471;&#2494;&#2472;\"},\"nds\":true,\"ovr\":{},\"pq\":\"Salmanhigh resolution images\",\"sbpl\":24,\"sbpr\":24,\"scd\":10,\"sce\":5,\"stok\":\"VCbctJBdEyilQlcLraBwiJ7d4YY\"})(function(){window.google.cdo={height:667,width:1366};(function(){var a=window.innerWidth,b=window.innerHeight;if(!a||!b){var c=window.document,d=\"CSS1Compat\"==c.compatMode?c.documentElement:c.body;a=d.clientWidth;b=d.clientHeight}a&&b&&(a!=google.cdo.width||b!=google.cdo.height)&&google.log(\"\",\"\",\"/client_204?&atyp=i&biw=\"+a+\"&bih=\"+b+\"&ei=\"+google.kEI);}).call(this);})();\n"
     ]
    }
   ],
   "source": [
    "import os\n",
    "import urllib.request\n",
    "import requests\n",
    "import json\n",
    "import bs4\n",
    "import time\n",
    "import shutil\n",
    "def download_images(query, no_of_files):\n",
    "    #if os.path.exists(query):\n",
    "        #shutil.rmtree(query)\n",
    "    #os.makedirs(query)\n",
    "    url = 'https://www.google.com/search?q=' + query + 'high+resolution+images' \\\n",
    "          +'&espv=2&biw=1366&bih=667&site=webhp&source=lnms&tbm=isch&sa=X&ei=XosDVaCXD8TasATItgE&ved=0CAcQ_AUoAg'\n",
    "    headers = {}\n",
    "    headers[\n",
    "        'User-Agent'] = \"Mozilla/5.0 (Windows NT 6.1) AppleWebKit/537.36 (KHTML, like Gecko) Chrome/41.0.2228.0 Safari/537.36\"\n",
    "    #req = urllib.request.Request(url, headers=headers)\n",
    "    res=requests.get(url)\n",
    "    #resp = urllib.request.urlopen(req)\n",
    "    \n",
    "    #respData = str(resp.read())\n",
    "    soup = bs4.BeautifulSoup(res.text, 'lxml')\n",
    "    print(soup.text)\n",
    "    \n",
    "    links = []\n",
    "    for link in soup.find_all('div' ,class_=\"rg_meta\"):\n",
    "        a=json.loads(link.text)\n",
    "        print(a)\n",
    "        links.append(a[\"ou\"])\n",
    "        print(a[\"ou\"])\n",
    "            \n",
    "    \n",
    "    \n",
    "    \n",
    "download_images(\"Salman\",2)\n",
    "    \n",
    "\n",
    "    \n"
   ]
  },
  {
   "cell_type": "code",
   "execution_count": 4,
   "metadata": {},
   "outputs": [
    {
     "ename": "IndentationError",
     "evalue": "unexpected indent (<ipython-input-4-ba4bb76b5f09>, line 2)",
     "output_type": "error",
     "traceback": [
      "\u001b[1;36m  File \u001b[1;32m\"<ipython-input-4-ba4bb76b5f09>\"\u001b[1;36m, line \u001b[1;32m2\u001b[0m\n\u001b[1;33m    for link in soup.find_all('div', {'class': 'rg_meta'}):\u001b[0m\n\u001b[1;37m    ^\u001b[0m\n\u001b[1;31mIndentationError\u001b[0m\u001b[1;31m:\u001b[0m unexpected indent\n"
     ]
    }
   ],
   "source": [
    "i = 0\n",
    "    for link in soup.find_all('div', {'class': 'rg_meta'}):\n",
    "        if len(os.listdir(query)) ==no_of_files:\n",
    "            break\n",
    "\n",
    "        try:\n",
    "            a = json.loads(link.text)\n",
    "            links.append(a[\"ou\"])\n",
    "            print(a[\"ou\"])\n",
    "        except Exception as e:\n",
    "            print(e)\n",
    "            time.sleep(1)\n",
    "        print(\"Downloaded\", i, \" files\")\n",
    "        i=i+1\n",
    "\n",
    "i = 0\n",
    "    for link in soup.find_all('div', {'class': 'rg_meta'}):\n",
    "        if len(os.listdir(query)) ==no_of_files:\n",
    "            break\n",
    "\n",
    "        try:\n",
    "            a = json.loads(link.text)\n",
    "            links.append(a[\"ou\"])\n",
    "            print(a[\"ou\"])\n",
    "        except Exception as e:\n",
    "            print(e)\n",
    "            time.sleep(1)\n",
    "        print(\"Downloaded\", i, \" files\")\n",
    "        i=i+1\n",
    "\n",
    "download_images(\"Salman+Khan+handsome\",2)"
   ]
  },
  {
   "cell_type": "code",
   "execution_count": null,
   "metadata": {},
   "outputs": [],
   "source": []
  }
 ],
 "metadata": {
  "kernelspec": {
   "display_name": "Python 3",
   "language": "python",
   "name": "python3"
  },
  "language_info": {
   "codemirror_mode": {
    "name": "ipython",
    "version": 3
   },
   "file_extension": ".py",
   "mimetype": "text/x-python",
   "name": "python",
   "nbconvert_exporter": "python",
   "pygments_lexer": "ipython3",
   "version": "3.6.3"
  }
 },
 "nbformat": 4,
 "nbformat_minor": 2
}
