{
 "cells": [
  {
   "cell_type": "code",
   "execution_count": 18,
   "metadata": {},
   "outputs": [
    {
     "ename": "SyntaxError",
     "evalue": "invalid syntax (<ipython-input-18-776986ce9e74>, line 25)",
     "output_type": "error",
     "traceback": [
      "\u001b[1;36m  File \u001b[1;32m\"<ipython-input-18-776986ce9e74>\"\u001b[1;36m, line \u001b[1;32m25\u001b[0m\n\u001b[1;33m    for link in soup.find_all('div' class_=\"rg_meta\"):\u001b[0m\n\u001b[1;37m                                         ^\u001b[0m\n\u001b[1;31mSyntaxError\u001b[0m\u001b[1;31m:\u001b[0m invalid syntax\n"
     ]
    }
   ],
   "source": [
    "import os\n",
    "import urllib.request\n",
    "import requests\n",
    "import json\n",
    "import bs4\n",
    "import time\n",
    "import shutil\n",
    "def download_images(query, no_of_files):\n",
    "    #if os.path.exists(query):\n",
    "        #shutil.rmtree(query)\n",
    "    #os.makedirs(query)\n",
    "    url = 'https://www.google.com/search?q=' + query + 'high+resolution+images' \\\n",
    "          +'&espv=2&biw=1366&bih=667&site=webhp&source=lnms&tbm=isch&sa=X&ei=XosDVaCXD8TasATItgE&ved=0CAcQ_AUoAg'\n",
    "    headers = {}\n",
    "    headers[\n",
    "        'User-Agent'] = \"Mozilla/5.0 (Windows NT 6.1) AppleWebKit/537.36 (KHTML, like Gecko) Chrome/41.0.2228.0 Safari/537.36\"\n",
    "    #req = urllib.request.Request(url, headers=headers)\n",
    "    res=requests.get(url)\n",
    "    #resp = urllib.request.urlopen(req)\n",
    "    \n",
    "    #respData = str(resp.read())\n",
    "    soup = bs4.BeautifulSoup(res.text, 'lxml')\n",
    "    #print(soup.text)\n",
    "    \n",
    "    links = []\n",
    "    for link in soup.find_all('div' ,class_=\"rg_meta\"):\n",
    "        a=json.loads(link.text)\n",
    "        print(a)\n",
    "        links.append(a[\"ou\"])\n",
    "        print(a[\"ou\"])\n",
    "            \n",
    "    \n",
    "    \n",
    "    \n",
    "download_images(\"Salman\",2)\n",
    "    \n",
    "\n",
    "    \n"
   ]
  },
  {
   "cell_type": "code",
   "execution_count": 4,
   "metadata": {},
   "outputs": [
    {
     "ename": "IndentationError",
     "evalue": "unexpected indent (<ipython-input-4-ba4bb76b5f09>, line 2)",
     "output_type": "error",
     "traceback": [
      "\u001b[1;36m  File \u001b[1;32m\"<ipython-input-4-ba4bb76b5f09>\"\u001b[1;36m, line \u001b[1;32m2\u001b[0m\n\u001b[1;33m    for link in soup.find_all('div', {'class': 'rg_meta'}):\u001b[0m\n\u001b[1;37m    ^\u001b[0m\n\u001b[1;31mIndentationError\u001b[0m\u001b[1;31m:\u001b[0m unexpected indent\n"
     ]
    }
   ],
   "source": [
    "i = 0\n",
    "    for link in soup.find_all('div', {'class': 'rg_meta'}):\n",
    "        if len(os.listdir(query)) ==no_of_files:\n",
    "            break\n",
    "\n",
    "        try:\n",
    "            a = json.loads(link.text)\n",
    "            links.append(a[\"ou\"])\n",
    "            print(a[\"ou\"])\n",
    "        except Exception as e:\n",
    "            print(e)\n",
    "            time.sleep(1)\n",
    "        print(\"Downloaded\", i, \" files\")\n",
    "        i=i+1\n",
    "\n",
    "i = 0\n",
    "    for link in soup.find_all('div', {'class': 'rg_meta'}):\n",
    "        if len(os.listdir(query)) ==no_of_files:\n",
    "            break\n",
    "\n",
    "        try:\n",
    "            a = json.loads(link.text)\n",
    "            links.append(a[\"ou\"])\n",
    "            print(a[\"ou\"])\n",
    "        except Exception as e:\n",
    "            print(e)\n",
    "            time.sleep(1)\n",
    "        print(\"Downloaded\", i, \" files\")\n",
    "        i=i+1\n",
    "\n",
    "download_images(\"Salman+Khan+handsome\",2)"
   ]
  },
  {
   "cell_type": "code",
   "execution_count": null,
   "metadata": {},
   "outputs": [],
   "source": []
  }
 ],
 "metadata": {
  "kernelspec": {
   "display_name": "Python 3",
   "language": "python",
   "name": "python3"
  },
  "language_info": {
   "codemirror_mode": {
    "name": "ipython",
    "version": 3
   },
   "file_extension": ".py",
   "mimetype": "text/x-python",
   "name": "python",
   "nbconvert_exporter": "python",
   "pygments_lexer": "ipython3",
   "version": "3.6.3"
  }
 },
 "nbformat": 4,
 "nbformat_minor": 2
}
