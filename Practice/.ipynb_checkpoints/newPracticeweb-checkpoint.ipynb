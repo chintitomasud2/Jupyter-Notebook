{
 "cells": [
  {
   "cell_type": "code",
   "execution_count": 67,
   "metadata": {},
   "outputs": [],
   "source": [
    "from bs4 import BeautifulSoup \n",
    "import requests\n",
    "import pandas as pd\n",
    "web_stats={\n",
    "    \n",
    "    \"day\":[1,2,3,4,5,6],\n",
    "    \"visitors\":[43,54,45,45,78,100]\n",
    "    \n",
    "}\n",
    "\n",
    "\n",
    "url=\"https://songslover.club/\"\n",
    "\n",
    "req=requests.get(url)\n"
   ]
  },
  {
   "cell_type": "code",
   "execution_count": 13,
   "metadata": {},
   "outputs": [],
   "source": [
    "soup = BeautifulSoup(req.text, 'lxml')"
   ]
  },
  {
   "cell_type": "code",
   "execution_count": null,
   "metadata": {},
   "outputs": [],
   "source": [
    "for url in soup.find_all(\"a\"):\n",
    "    \n",
    "    print(url.get(\"href\"))\n"
   ]
  },
  {
   "cell_type": "markdown",
   "metadata": {},
   "source": [
    "masud=soup.find_all(class_=\"wpmd\")\n",
    "print(masud[0].find_all(\"li\"))\n",
    "\n"
   ]
  },
  {
   "cell_type": "code",
   "execution_count": null,
   "metadata": {},
   "outputs": [],
   "source": [
    "\n",
    "for links in (masud[0].find_all(\"li\")):\n",
    "    print(links.a.get(\"href\"))"
   ]
  },
  {
   "cell_type": "code",
   "execution_count": null,
   "metadata": {},
   "outputs": [],
   "source": [
    "for links in (masud[1].find_all(\"li\")):\n",
    "    print(links.a.get(\"href\"))"
   ]
  },
  {
   "cell_type": "code",
   "execution_count": 60,
   "metadata": {},
   "outputs": [
    {
     "name": "stdout",
     "output_type": "stream",
     "text": [
      "https://m.songslover.club/tracks/lil-wayne-bank-account.html\n"
     ]
    }
   ],
   "source": []
  },
  {
   "cell_type": "code",
   "execution_count": null,
   "metadata": {},
   "outputs": [],
   "source": [
    "mylist=[]\n",
    "\n",
    "for anotherlinks in soup.find_all(class_=\"ws11\"):\n",
    "    sublinks=anotherlinks.find_all(\"a\")\n",
    "    for sublinks in sublinks:\n",
    "        mylist.append(sublinks.get('href'))\n",
    "        print(sublinks.get(\"href\"))\n",
    "   \n",
    "#     print(anotherlinks.find_all(\"a\")[0].get(\"href\"))\n",
    "\n",
    "# balergame=soup.find_all(class_=\"ws11\")[0]\n",
    "# print(balergame.find_all(\"a\")[0].get(\"href\"))"
   ]
  },
  {
   "cell_type": "code",
   "execution_count": null,
   "metadata": {},
   "outputs": [],
   "source": [
    "mylist"
   ]
  },
  {
   "cell_type": "code",
   "execution_count": 77,
   "metadata": {},
   "outputs": [],
   "source": [
    "mydataframe={\n",
    "    \"alllinks\":mylist\n",
    "    \n",
    "}\n",
    "\n",
    "df=pd.DataFrame(mydataframe)"
   ]
  },
  {
   "cell_type": "code",
   "execution_count": 79,
   "metadata": {},
   "outputs": [
    {
     "name": "stdout",
     "output_type": "stream",
     "text": [
      "                                             alllinks\n",
      "0   https://m.songslover.club/tracks/lil-wayne-ban...\n",
      "1   https://m.songslover.club/tracks/lil-wayne-bla...\n",
      "2   https://m.songslover.club/tracks/pitbull-romeo...\n",
      "3   https://m.songslover.club/tracks/machine-gun-k...\n",
      "4   https://m.songslover.club/tracks/ace-hood-calm...\n",
      "5   https://songslover.club/albums/gucci-mane-el-g...\n",
      "6   https://songslover.club/albums/travis-scott-hu...\n",
      "7   https://songslover.club/albums/david-guetta-af...\n",
      "8   https://songslover.club/albums/various-artists...\n",
      "9   https://songslover.club/albums/chance-the-rapp...\n",
      "10  https://songslover.club/albums/charli-xcx-pop-...\n",
      "11  https://songslover.club/albums/various-artists...\n",
      "12          https://m.songslover.club/category/tracks\n",
      "13  https://m.songslover.club/tracks/harmony-psa.html\n",
      "14  https://m.songslover.club/tracks/%E2%80%8Bilov...\n",
      "15  https://songslover.club/albums/noel-gallaghers...\n",
      "16  https://songslover.club/albums/nas-in-my-ghett...\n",
      "17    https://songslover.club/albums/loreen-ride.html\n",
      "18  https://songslover.club/albums/fabolous-jadaki...\n",
      "19  https://songslover.club/albums/kodak-black-pro...\n",
      "20  https://songslover.club/albums/yg-hootie-hubri...\n",
      "21       https://songslover.club/albums/lil-pump.html\n",
      "22  https://songslover.club/albums/hopsin-no-shame...\n",
      "23  https://songslover.club/albums/little-mix-glor...\n",
      "24          https://songslover.club/albums/2-pac.html\n",
      "25  https://songslover.club/albums/lil-baby-too-ha...\n",
      "26           https://songslover.club/albums/ep-2.html\n",
      "27  https://songslover.club/albums/miguel-war-leis...\n",
      "28  https://songslover.club/albums/alan-walker-all...\n",
      "29  https://songslover.club/albums/chief-keef-dedi...\n",
      "30  https://songslover.club/albums/kandrick-lamar-...\n",
      "31  https://songslover.club/albums/khalid-american...\n",
      "32  https://songslover.club/albums/dua-lipa-live-a...\n",
      "33  https://songslover.club/albums/best-of-novembe...\n",
      "34  https://songslover.club/albums/roy-woods-say-l...\n",
      "35  https://songslover.club/albums/v-a-ferdinand.html\n",
      "36  https://songslover.club/albums/21-savage-xxxte...\n",
      "37  https://songslover.club/albums/juicy-j-rubba-b...\n",
      "38  https://songslover.club/albums/molly-brazy-big...\n",
      "39  https://songslover.club/albums/inna-nirvana-de...\n",
      "40  https://songslover.club/albums/rihanna-conside...\n",
      "41  https://songslover.club/albums/camila-cabello-...\n",
      "42  https://songslover.club/albums/statik-selektah...\n",
      "43  https://songslover.club/albums/dave-east-dj-ho...\n",
      "44  https://songslover.club/albums/various-artists...\n",
      "45  https://songslover.club/albums/charli-xcx-pop-...\n",
      "46  https://songslover.club/albums/akon-present-ko...\n"
     ]
    }
   ],
   "source": [
    "print(df)\n",
    "df.to_csv(\"alllinks.csv\")"
   ]
  },
  {
   "cell_type": "code",
   "execution_count": 82,
   "metadata": {},
   "outputs": [],
   "source": [
    "df.to_csv(\"haire.csv\")"
   ]
  },
  {
   "cell_type": "code",
   "execution_count": 83,
   "metadata": {},
   "outputs": [],
   "source": [
    "df.columns=['masud']"
   ]
  },
  {
   "cell_type": "code",
   "execution_count": 84,
   "metadata": {},
   "outputs": [
    {
     "name": "stdout",
     "output_type": "stream",
     "text": [
      "                                                masud\n",
      "0   https://m.songslover.club/tracks/lil-wayne-ban...\n",
      "1   https://m.songslover.club/tracks/lil-wayne-bla...\n",
      "2   https://m.songslover.club/tracks/pitbull-romeo...\n",
      "3   https://m.songslover.club/tracks/machine-gun-k...\n",
      "4   https://m.songslover.club/tracks/ace-hood-calm...\n",
      "5   https://songslover.club/albums/gucci-mane-el-g...\n",
      "6   https://songslover.club/albums/travis-scott-hu...\n",
      "7   https://songslover.club/albums/david-guetta-af...\n",
      "8   https://songslover.club/albums/various-artists...\n",
      "9   https://songslover.club/albums/chance-the-rapp...\n",
      "10  https://songslover.club/albums/charli-xcx-pop-...\n",
      "11  https://songslover.club/albums/various-artists...\n",
      "12          https://m.songslover.club/category/tracks\n",
      "13  https://m.songslover.club/tracks/harmony-psa.html\n",
      "14  https://m.songslover.club/tracks/%E2%80%8Bilov...\n",
      "15  https://songslover.club/albums/noel-gallaghers...\n",
      "16  https://songslover.club/albums/nas-in-my-ghett...\n",
      "17    https://songslover.club/albums/loreen-ride.html\n",
      "18  https://songslover.club/albums/fabolous-jadaki...\n",
      "19  https://songslover.club/albums/kodak-black-pro...\n",
      "20  https://songslover.club/albums/yg-hootie-hubri...\n",
      "21       https://songslover.club/albums/lil-pump.html\n",
      "22  https://songslover.club/albums/hopsin-no-shame...\n",
      "23  https://songslover.club/albums/little-mix-glor...\n",
      "24          https://songslover.club/albums/2-pac.html\n",
      "25  https://songslover.club/albums/lil-baby-too-ha...\n",
      "26           https://songslover.club/albums/ep-2.html\n",
      "27  https://songslover.club/albums/miguel-war-leis...\n",
      "28  https://songslover.club/albums/alan-walker-all...\n",
      "29  https://songslover.club/albums/chief-keef-dedi...\n",
      "30  https://songslover.club/albums/kandrick-lamar-...\n",
      "31  https://songslover.club/albums/khalid-american...\n",
      "32  https://songslover.club/albums/dua-lipa-live-a...\n",
      "33  https://songslover.club/albums/best-of-novembe...\n",
      "34  https://songslover.club/albums/roy-woods-say-l...\n",
      "35  https://songslover.club/albums/v-a-ferdinand.html\n",
      "36  https://songslover.club/albums/21-savage-xxxte...\n",
      "37  https://songslover.club/albums/juicy-j-rubba-b...\n",
      "38  https://songslover.club/albums/molly-brazy-big...\n",
      "39  https://songslover.club/albums/inna-nirvana-de...\n",
      "40  https://songslover.club/albums/rihanna-conside...\n",
      "41  https://songslover.club/albums/camila-cabello-...\n",
      "42  https://songslover.club/albums/statik-selektah...\n",
      "43  https://songslover.club/albums/dave-east-dj-ho...\n",
      "44  https://songslover.club/albums/various-artists...\n",
      "45  https://songslover.club/albums/charli-xcx-pop-...\n",
      "46  https://songslover.club/albums/akon-present-ko...\n"
     ]
    }
   ],
   "source": [
    "print(df)"
   ]
  },
  {
   "cell_type": "code",
   "execution_count": null,
   "metadata": {},
   "outputs": [],
   "source": []
  }
 ],
 "metadata": {
  "kernelspec": {
   "display_name": "Python 3",
   "language": "python",
   "name": "python3"
  },
  "language_info": {
   "codemirror_mode": {
    "name": "ipython",
    "version": 3
   },
   "file_extension": ".py",
   "mimetype": "text/x-python",
   "name": "python",
   "nbconvert_exporter": "python",
   "pygments_lexer": "ipython3",
   "version": "3.6.4"
  }
 },
 "nbformat": 4,
 "nbformat_minor": 2
}
