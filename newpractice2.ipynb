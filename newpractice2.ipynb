{
 "cells": [
  {
   "cell_type": "code",
   "execution_count": 15,
   "metadata": {},
   "outputs": [
    {
     "name": "stdout",
     "output_type": "stream",
     "text": [
      "35\n",
      "10\n"
     ]
    }
   ],
   "source": [
    "class Student:\n",
    "    roll=0\n",
    "    phonenumber=0\n",
    "    \n",
    "    \n",
    "    def __init__(self):\n",
    "        self.roll=10\n",
    "        self.phonenumber=12\n",
    "    def addnumber(self,number1,number2):\n",
    "        return number1+number2\n",
    "\n",
    "\n",
    "student=Student()\n",
    "print(student.addnumber(1,34))\n",
    "print(student.roll)"
   ]
  },
  {
   "cell_type": "code",
   "execution_count": null,
   "metadata": {},
   "outputs": [],
   "source": []
  }
 ],
 "metadata": {
  "kernelspec": {
   "display_name": "Python 3",
   "language": "python",
   "name": "python3"
  },
  "language_info": {
   "codemirror_mode": {
    "name": "ipython",
    "version": 3
   },
   "file_extension": ".py",
   "mimetype": "text/x-python",
   "name": "python",
   "nbconvert_exporter": "python",
   "pygments_lexer": "ipython3",
   "version": "3.6.3"
  }
 },
 "nbformat": 4,
 "nbformat_minor": 2
}
