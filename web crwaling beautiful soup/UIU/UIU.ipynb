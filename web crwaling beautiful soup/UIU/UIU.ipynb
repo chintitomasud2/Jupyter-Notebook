{
 "cells": [
  {
   "cell_type": "code",
   "execution_count": 2,
   "metadata": {},
   "outputs": [],
   "source": [
    "from bs4 import BeautifulSoup\n",
    "import pandas as pd"
   ]
  },
  {
   "cell_type": "code",
   "execution_count": 3,
   "metadata": {},
   "outputs": [],
   "source": [
    "import requests"
   ]
  },
  {
   "cell_type": "code",
   "execution_count": 4,
   "metadata": {},
   "outputs": [],
   "source": [
    "url=\"http://www.uiu.ac.bd/notices/page/1/\"\n",
    "data=requests.get(url)\n",
    "soup=BeautifulSoup(data.text,\"html.parser\")"
   ]
  },
  {
   "cell_type": "code",
   "execution_count": 5,
   "metadata": {},
   "outputs": [],
   "source": [
    "mylist=set()\n",
    "\n",
    "\n"
   ]
  },
  {
   "cell_type": "code",
   "execution_count": null,
   "metadata": {},
   "outputs": [],
   "source": []
  },
  {
   "cell_type": "code",
   "execution_count": 6,
   "metadata": {},
   "outputs": [
    {
     "name": "stdout",
     "output_type": "stream",
     "text": [
      "Cancellation of Classes on April 30, 2018\n",
      "http://www.uiu.ac.bd/notices/cancellation-of-classes-on-april-30-2018/\n",
      "Tech Startup Day: Call for Participation\n",
      "http://www.uiu.ac.bd/notices/tech-startup-day-call-for-participation/\n",
      "HOLIDAY NOTICE_BANGLA NABABARSHA\n",
      "http://www.uiu.ac.bd/notices/holiday-notice_bangla-nababarsha-1425/\n",
      "Course Withdraw Spring 2018 for SoBE & SoSE\n",
      "http://www.uiu.ac.bd/notices/course-withdraw-spring-for-sobe-sose/\n",
      "Opportunity to Study One/Two Semester at University of Pahang, Malaysia\n",
      "http://www.uiu.ac.bd/notices/opportunity-study-onetwo-semester-university-pahang-malaysia/\n",
      "UIU Transportation Service for Students  in the Mid-Term Exam Week\n",
      "http://www.uiu.ac.bd/notices/uiu-transportation-service-students-mid-term-exam-week/\n",
      "Arrangement of Study Room  for UIU Students\n",
      "http://www.uiu.ac.bd/notices/arrangement-study-room-uiu-students/\n",
      "HOLIDAY NOTICE_INDEPENDENCE & NATIONAL DAY\n",
      "http://www.uiu.ac.bd/notices/holiday-notice_independence-national-day-2018/\n",
      "Emergency Notification Regarding Data Centre Maintenance Work\n",
      "http://www.uiu.ac.bd/notices/emergency-notification-regarding-data-centre-maintenance-work/\n",
      "Mid Term Exam Schedule Spring 2018: SoSE & SoBE\n",
      "http://www.uiu.ac.bd/notices/mid-term-exam-schedule-spring-2018-sose-sobe/\n",
      "Library Notice-Service Interruption\n",
      "http://www.uiu.ac.bd/notices/library-notice-service-interruption-2/\n",
      "HOLIDAY NOTICE_BIRTHDAY OF FATHER OF THE NATION BANGABANDHU SHEIKH MUJIBUR RAHMAN & NATIONAL CHILDREN’S DAY\n",
      "http://www.uiu.ac.bd/notices/holiday-notice_birthday-father-nation-bangabandhu-sheikh-mujibur-rahman-national-childrens-day-18/\n",
      "SANCTIONING OF 100% TUITION FEE WAIVER UNDER  FREEDOM FIGHTERS’ CHILDREN QUOTA\n",
      "http://www.uiu.ac.bd/notices/sanctioning-100-tuition-fee-waiver-freedom-fighters-children-quota-spring-18/\n"
     ]
    }
   ],
   "source": [
    "for url in soup.find_all(class_=\"entry-title\"):\n",
    "    print(url.text)\n",
    "    mylist.add(url.text)\n",
    "    print(url.a.get(\"href\"))"
   ]
  },
  {
   "cell_type": "code",
   "execution_count": 7,
   "metadata": {},
   "outputs": [
    {
     "data": {
      "text/plain": [
       "['Tech Startup Day: Call for Participation',\n",
       " 'Arrangement of Study Room  for UIU Students',\n",
       " 'Library Notice-Service Interruption',\n",
       " 'Opportunity to Study One/Two Semester at University of Pahang, Malaysia',\n",
       " 'Course Withdraw Spring 2018 for SoBE & SoSE',\n",
       " 'UIU Transportation Service for Students  in the Mid-Term Exam Week',\n",
       " 'HOLIDAY NOTICE_BIRTHDAY OF FATHER OF THE NATION BANGABANDHU SHEIKH MUJIBUR RAHMAN & NATIONAL CHILDREN’S DAY',\n",
       " 'HOLIDAY NOTICE_BANGLA NABABARSHA',\n",
       " 'SANCTIONING OF 100% TUITION FEE WAIVER UNDER  FREEDOM FIGHTERS’ CHILDREN QUOTA',\n",
       " 'Mid Term Exam Schedule Spring 2018: SoSE & SoBE',\n",
       " 'Emergency Notification Regarding Data Centre Maintenance Work',\n",
       " 'HOLIDAY NOTICE_INDEPENDENCE & NATIONAL DAY',\n",
       " 'Cancellation of Classes on April 30, 2018']"
      ]
     },
     "execution_count": 7,
     "metadata": {},
     "output_type": "execute_result"
    }
   ],
   "source": [
    "mylist\n",
    "type(mylist)\n",
    "list(mylist)"
   ]
  },
  {
   "cell_type": "code",
   "execution_count": 64,
   "metadata": {},
   "outputs": [],
   "source": [
    "haire=pd.DataFrame(list(mylist))"
   ]
  },
  {
   "cell_type": "code",
   "execution_count": 65,
   "metadata": {},
   "outputs": [],
   "source": [
    "haire.to_csv(\"uiu_notice.csv\")"
   ]
  },
  {
   "cell_type": "code",
   "execution_count": null,
   "metadata": {},
   "outputs": [],
   "source": []
  }
 ],
 "metadata": {
  "kernelspec": {
   "display_name": "Python 3",
   "language": "python",
   "name": "python3"
  },
  "language_info": {
   "codemirror_mode": {
    "name": "ipython",
    "version": 3
   },
   "file_extension": ".py",
   "mimetype": "text/x-python",
   "name": "python",
   "nbconvert_exporter": "python",
   "pygments_lexer": "ipython3",
   "version": "3.6.4"
  }
 },
 "nbformat": 4,
 "nbformat_minor": 2
}
