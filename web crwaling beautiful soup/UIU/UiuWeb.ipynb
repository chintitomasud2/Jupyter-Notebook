{
 "cells": [
  {
   "cell_type": "code",
   "execution_count": 4,
   "metadata": {},
   "outputs": [
    {
     "name": "stdout",
     "output_type": "stream",
     "text": [
      "Cancellation of Classes on April 30, 2018\n",
      "http://www.uiu.ac.bd/notices/cancellation-of-classes-on-april-30-2018/\n",
      "Tech Startup Day: Call for Participation\n",
      "http://www.uiu.ac.bd/notices/tech-startup-day-call-for-participation/\n",
      "HOLIDAY NOTICE_BANGLA NABABARSHA\n",
      "http://www.uiu.ac.bd/notices/holiday-notice_bangla-nababarsha-1425/\n",
      "Course Withdraw Spring 2018 for SoBE & SoSE\n",
      "http://www.uiu.ac.bd/notices/course-withdraw-spring-for-sobe-sose/\n",
      "Opportunity to Study One/Two Semester at University of Pahang, Malaysia\n",
      "http://www.uiu.ac.bd/notices/opportunity-study-onetwo-semester-university-pahang-malaysia/\n",
      "UIU Transportation Service for Students  in the Mid-Term Exam Week\n",
      "http://www.uiu.ac.bd/notices/uiu-transportation-service-students-mid-term-exam-week/\n",
      "Arrangement of Study Room  for UIU Students\n",
      "http://www.uiu.ac.bd/notices/arrangement-study-room-uiu-students/\n",
      "HOLIDAY NOTICE_INDEPENDENCE & NATIONAL DAY\n",
      "http://www.uiu.ac.bd/notices/holiday-notice_independence-national-day-2018/\n",
      "Emergency Notification Regarding Data Centre Maintenance Work\n",
      "http://www.uiu.ac.bd/notices/emergency-notification-regarding-data-centre-maintenance-work/\n",
      "Mid Term Exam Schedule Spring 2018: SoSE & SoBE\n",
      "http://www.uiu.ac.bd/notices/mid-term-exam-schedule-spring-2018-sose-sobe/\n",
      "Library Notice-Service Interruption\n",
      "http://www.uiu.ac.bd/notices/library-notice-service-interruption-2/\n",
      "HOLIDAY NOTICE_BIRTHDAY OF FATHER OF THE NATION BANGABANDHU SHEIKH MUJIBUR RAHMAN & NATIONAL CHILDREN’S DAY\n",
      "http://www.uiu.ac.bd/notices/holiday-notice_birthday-father-nation-bangabandhu-sheikh-mujibur-rahman-national-childrens-day-18/\n",
      "SANCTIONING OF 100% TUITION FEE WAIVER UNDER  FREEDOM FIGHTERS’ CHILDREN QUOTA\n",
      "http://www.uiu.ac.bd/notices/sanctioning-100-tuition-fee-waiver-freedom-fighters-children-quota-spring-18/\n"
     ]
    }
   ],
   "source": [
    "from bs4 import BeautifulSoup\n",
    "import pandas as pd\n",
    "import requests\n",
    "url=\"http://www.uiu.ac.bd/notices/page/1/\"\n",
    "data=requests.get(url)\n",
    "soup=BeautifulSoup(data.text,\"html.parser\")\n",
    "for url in soup.find_all(class_=\"entry-title\"):\n",
    "    print(url.text)\n",
    "    \n",
    "    print(url.a.get(\"href\"))"
   ]
  },
  {
   "cell_type": "code",
   "execution_count": null,
   "metadata": {},
   "outputs": [],
   "source": []
  }
 ],
 "metadata": {
  "kernelspec": {
   "display_name": "Python 3",
   "language": "python",
   "name": "python3"
  },
  "language_info": {
   "codemirror_mode": {
    "name": "ipython",
    "version": 3
   },
   "file_extension": ".py",
   "mimetype": "text/x-python",
   "name": "python",
   "nbconvert_exporter": "python",
   "pygments_lexer": "ipython3",
   "version": "3.6.4"
  }
 },
 "nbformat": 4,
 "nbformat_minor": 2
}
