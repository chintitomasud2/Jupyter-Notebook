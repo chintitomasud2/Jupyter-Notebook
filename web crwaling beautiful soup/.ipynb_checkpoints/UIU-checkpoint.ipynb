{
 "cells": [
  {
   "cell_type": "code",
   "execution_count": 34,
   "metadata": {},
   "outputs": [],
   "source": [
    "from bs4 import BeautifulSoup\n",
    "import pandas as pd"
   ]
  },
  {
   "cell_type": "code",
   "execution_count": 2,
   "metadata": {},
   "outputs": [],
   "source": [
    "import requests"
   ]
  },
  {
   "cell_type": "code",
   "execution_count": 35,
   "metadata": {},
   "outputs": [],
   "source": [
    "url=\"http://www.uiu.ac.bd/notices/page/1/\"\n",
    "data=requests.get(url)\n",
    "soup=BeautifulSoup(data.text,\"html.parser\")"
   ]
  },
  {
   "cell_type": "code",
   "execution_count": 30,
   "metadata": {},
   "outputs": [],
   "source": [
    "mylist=()\n",
    "\n",
    "\n"
   ]
  },
  {
   "cell_type": "code",
   "execution_count": null,
   "metadata": {},
   "outputs": [],
   "source": [
    "for links in alllinks:\n",
    "    print(links.get(\"href\"))"
   ]
  },
  {
   "cell_type": "code",
   "execution_count": 36,
   "metadata": {},
   "outputs": [
    {
     "name": "stdout",
     "output_type": "stream",
     "text": [
      "Extension of Time to register for UIU Transportation Service to & from UIU Permanent Campus\n",
      "http://www.uiu.ac.bd/notices/extension-time-register-uiu-transportation-service-uiu-permanent-campus/\n",
      "HOLIDAY NOTICE_CHRISTMAS DAY\n",
      "http://www.uiu.ac.bd/notices/holiday-notice_christmas-day-2017/\n",
      "Holiday Notice_Victory Day\n",
      "http://www.uiu.ac.bd/notices/holiday-notice_victory-day-2017/\n",
      "UIU Academic & Administrative Activities at Permanent Campus from Spring 2018 Trimester\n",
      "http://www.uiu.ac.bd/notices/uiu-academic-administrative-activities-permanent-campus-spring-2018-trimester/\n",
      "HOLIDAY NOTICE_HOLY EID-E-MILADUNNABI\n",
      "http://www.uiu.ac.bd/notices/holiday-notice_holy-eid-e-miladunnabi-2017/\n",
      "Make-up Class Schedule Fall 2017 Trimester\n",
      "http://www.uiu.ac.bd/notices/make-class-schedule-fall-2017-trimester/\n",
      "Course Withdraw Fall 2017 for SoBE & SoSE\n",
      "http://www.uiu.ac.bd/notices/course-withdraw-fall-2017-sobe-sose/\n",
      "RESULT OF 1st ADMISSION TEST – SPRING 2018\n",
      "http://www.uiu.ac.bd/notices/result-1st-admission-test-spring-2018/\n",
      "Mid-term Exam Schedule For SoSE & SoBE, Fall 2017\n",
      "http://www.uiu.ac.bd/notices/mid-term-exam-schedule-sose-sobe-fall-2017/\n",
      "Extension of the last date of Registration: 5th CONVOCATION 2018\n",
      "http://www.uiu.ac.bd/notices/extension-last-date-registration-5th-convocation-2018/\n",
      "SANCTIONING OF 100% TUITION FEE WAIVER UNDER  FREEDOM FIGHTERS’ CHILDREN QUOTA\n",
      "http://www.uiu.ac.bd/notices/sanctioning-100-tuition-fee-waiver-freedom-fighters-children-quota/\n",
      "Further Extension of the Last Date of Registration (With Late Fine) Fall 2017\n",
      "http://www.uiu.ac.bd/notices/extension-last-date-registration-late-fine-fall-2017/\n",
      "List of Scholarship Recipients for Fall 2017 Trimester\n",
      "http://www.uiu.ac.bd/notices/list-of-scholarship-recipients-for-fall-2017-trimester/\n"
     ]
    }
   ],
   "source": [
    "for url in soup.find_all(class_=\"entry-title\"):\n",
    "    print(url.text)\n",
    "    mylist.add(url.text)\n",
    "    print(url.a.get(\"href\"))"
   ]
  },
  {
   "cell_type": "code",
   "execution_count": 37,
   "metadata": {},
   "outputs": [
    {
     "data": {
      "text/plain": [
       "['Extension of Time to register for UIU Transportation Service to & from UIU Permanent Campus',\n",
       " 'HOLIDAY NOTICE_CHRISTMAS DAY',\n",
       " 'Holiday Notice_Victory Day',\n",
       " 'UIU Academic & Administrative Activities at Permanent Campus from Spring 2018 Trimester',\n",
       " 'HOLIDAY NOTICE_HOLY EID-E-MILADUNNABI',\n",
       " 'Make-up Class Schedule Fall 2017 Trimester',\n",
       " 'Course Withdraw Fall 2017 for SoBE & SoSE',\n",
       " 'RESULT OF 1st ADMISSION TEST – SPRING 2018',\n",
       " 'Mid-term Exam Schedule For SoSE & SoBE, Fall 2017',\n",
       " 'Extension of the last date of Registration: 5th CONVOCATION 2018',\n",
       " 'SANCTIONING OF 100% TUITION FEE WAIVER UNDER  FREEDOM FIGHTERS’ CHILDREN QUOTA',\n",
       " 'Further Extension of the Last Date of Registration (With Late Fine) Fall 2017',\n",
       " 'List of Scholarship Recipients for Fall 2017 Trimester',\n",
       " 'Extension of Time to register for UIU Transportation Service to & from UIU Permanent Campus',\n",
       " 'HOLIDAY NOTICE_CHRISTMAS DAY',\n",
       " 'Holiday Notice_Victory Day',\n",
       " 'UIU Academic & Administrative Activities at Permanent Campus from Spring 2018 Trimester',\n",
       " 'HOLIDAY NOTICE_HOLY EID-E-MILADUNNABI',\n",
       " 'Make-up Class Schedule Fall 2017 Trimester',\n",
       " 'Course Withdraw Fall 2017 for SoBE & SoSE',\n",
       " 'RESULT OF 1st ADMISSION TEST – SPRING 2018',\n",
       " 'Mid-term Exam Schedule For SoSE & SoBE, Fall 2017',\n",
       " 'Extension of the last date of Registration: 5th CONVOCATION 2018',\n",
       " 'SANCTIONING OF 100% TUITION FEE WAIVER UNDER  FREEDOM FIGHTERS’ CHILDREN QUOTA',\n",
       " 'Further Extension of the Last Date of Registration (With Late Fine) Fall 2017',\n",
       " 'List of Scholarship Recipients for Fall 2017 Trimester']"
      ]
     },
     "execution_count": 37,
     "metadata": {},
     "output_type": "execute_result"
    }
   ],
   "source": [
    "mylist"
   ]
  },
  {
   "cell_type": "code",
   "execution_count": 40,
   "metadata": {},
   "outputs": [
    {
     "ename": "SyntaxError",
     "evalue": "unexpected EOF while parsing (<ipython-input-40-b9dbbd12c1b8>, line 1)",
     "output_type": "error",
     "traceback": [
      "\u001b[0;36m  File \u001b[0;32m\"<ipython-input-40-b9dbbd12c1b8>\"\u001b[0;36m, line \u001b[0;32m1\u001b[0m\n\u001b[0;31m    haire=pd.DataFrame(set(mylist)\u001b[0m\n\u001b[0m                                  ^\u001b[0m\n\u001b[0;31mSyntaxError\u001b[0m\u001b[0;31m:\u001b[0m unexpected EOF while parsing\n"
     ]
    }
   ],
   "source": [
    "haire=pd.DataFrame(mylist)"
   ]
  },
  {
   "cell_type": "code",
   "execution_count": 39,
   "metadata": {},
   "outputs": [],
   "source": [
    "haire.to_csv(\"uiu_notice.csv\")"
   ]
  },
  {
   "cell_type": "code",
   "execution_count": null,
   "metadata": {},
   "outputs": [],
   "source": []
  }
 ],
 "metadata": {
  "kernelspec": {
   "display_name": "Python 3",
   "language": "python",
   "name": "python3"
  },
  "language_info": {
   "codemirror_mode": {
    "name": "ipython",
    "version": 3
   },
   "file_extension": ".py",
   "mimetype": "text/x-python",
   "name": "python",
   "nbconvert_exporter": "python",
   "pygments_lexer": "ipython3",
   "version": "3.6.3"
  }
 },
 "nbformat": 4,
 "nbformat_minor": 2
}
