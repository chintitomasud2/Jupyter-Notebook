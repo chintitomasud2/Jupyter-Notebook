{
 "cells": [
  {
   "cell_type": "code",
   "execution_count": 4,
   "metadata": {},
   "outputs": [],
   "source": [
    "#Request and Beautifulsoup Declaration and url\n",
    "from bs4 import BeautifulSoup \n",
    "import requests\n",
    "url=\"http://www.startech.com.bd\"\n",
    "url2=\"http://www.startech.com.bd/component/monitor/asus-led-monitor\"\n",
    "req=requests.get(url2)\n"
   ]
  },
  {
   "cell_type": "code",
   "execution_count": null,
   "metadata": {},
   "outputs": [],
   "source": [
    "print(req.text)"
   ]
  },
  {
   "cell_type": "code",
   "execution_count": null,
   "metadata": {},
   "outputs": [],
   "source": [
    "# Parsing \n",
    "soup = BeautifulSoup(req.text, 'lxml')"
   ]
  },
  {
   "cell_type": "code",
   "execution_count": null,
   "metadata": {},
   "outputs": [],
   "source": [
    "#whole link\n",
    "print(soup.find_all(\"a\"))"
   ]
  },
  {
   "cell_type": "code",
   "execution_count": null,
   "metadata": {},
   "outputs": [],
   "source": [
    "#whole link\n",
    "\n",
    "for url in soup.find_all(\"a\"):\n",
    "    print(url.get(\"href\"))\n"
   ]
  },
  {
   "cell_type": "code",
   "execution_count": 17,
   "metadata": {},
   "outputs": [
    {
     "name": "stdout",
     "output_type": "stream",
     "text": [
      "https://www.facebook.com/star.tech.ltd\n",
      "https://plus.google.com/u/0/113376293895212214277\n"
     ]
    }
   ],
   "source": [
    "#Facebook Link\n",
    "for url in soup.find_all(class_=\"facebook\"):\n",
    "    print(url.get('href'))\n"
   ]
  },
  {
   "cell_type": "code",
   "execution_count": 27,
   "metadata": {},
   "outputs": [
    {
     "name": "stdout",
     "output_type": "stream",
     "text": [
      "Razer Cynosa Pro Razer DeathAdder 2000 Bundle 3 Colors LED Gaming Keyboard\n",
      "http://www.startech.com.bd/razer-cynosa-pro-keyboard-mouse-mouse\n",
      " 6,700৳\n",
      "Microsoft Surface Pro 4 Core i5-128GB Laptop and Tablet With Pen\n",
      "http://www.startech.com.bd/microsoft-surface-pro-4-128gb\n",
      " 79,000৳\n",
      "ASRock A320M-HDV Motherboard\n",
      "http://www.startech.com.bd/asrock-a320m-hdv\n",
      " 6,000৳\n",
      "Gamdias POSEIDON M1 COMBO Keyboard, Mouse & Headphone\n",
      "http://www.startech.com.bd/gamdias-poseidon-m1-combo\n",
      " 3,850৳\n",
      "XFX RX 580 GTR-S Black Edition 8GB Crimson DDR5 OC+ Graphics Card (RX-580A8DBR6)\n",
      "http://www.startech.com.bd/xfx-rx-580-gtr-s-black-edition-8gb-crimson\n",
      " 36,000৳\n",
      "Antec P8 Tempered glass mid-tower Gaming Case\n",
      "http://www.startech.com.bd/antec-p8-casing\n",
      " 5,500৳\n",
      "Xiaomi Mi 13.3 inch Notebook Air i5 7th Gen 8GB Ram-256GB SSD (2017) with Graphics\n",
      "http://www.startech.com.bd/xiaomi-mi-notebook-air-13.3-inch-silver\n",
      " 77,990৳\n",
      "Xiaomi Yi Action Camera \n",
      "http://www.startech.com.bd/xiaomi-yi-action-camera\n",
      " 6,500৳\n",
      "Eset Internet Security 2017- One User with Backpack\n",
      "http://www.startech.com.bd/eset-internet-security-2017-version-10\n",
      " 1,099৳\n",
      "GeIL Super Luce DDR4-2400MHz 8GB Desktop RAM (Blue Light)\n",
      "http://www.startech.com.bd/geil-super-luce-ddr4-2400mhz-black-blue-light\n",
      " 8,000৳\n",
      "Antec BP350PS PRO EC 350 watt Basic Power Supply\n",
      "http://www.startech.com.bd/antec-bp350-350-watt-power-supply\n",
      " 2,700৳\n",
      "AMD RYZEN 5 1600 6-Core 3.2GHz Turbo Core Speed 3.6GHz Processor\n",
      "http://www.startech.com.bd/amd-ryzen-5-1600\n",
      " 17,900৳\n",
      "Canon EOS 700D DSLR 18.0 MP With 18-55mm Lens\n",
      "http://www.startech.com.bd/canon-eos-700d-dslr-camera\n",
      " 43,000৳\n",
      "HP ProDesk 400 G4 MT 7th Gen i3 4GB-1TB Business PC\n",
      "http://www.startech.com.bd/hp-prodesk-400-g4-7th-gen-i3\n",
      " 34,000৳\n",
      "Gamdias POSEIDON M1 COMBO Keyboard, Mouse & Headphone\n",
      "http://www.startech.com.bd/gamdias-poseidon-m1-combo\n",
      " 3,850৳\n",
      "Razer DeathAdder Elite-Ergonomic Gaming Mouse\n",
      "http://www.startech.com.bd/razer-deathadder-elite-ergonomic\n",
      " 6,000৳\n",
      "Bitfenix Neos Window Black-Black Casing\n",
      "http://www.startech.com.bd/bitfenix-neos-window-black-casing\n",
      " 3,700৳\n",
      "RYZEN Gaming & Graphics PC 03\n",
      "http://www.startech.com.bd/ryzen-gaming-graphics-pc-03\n",
      " 71,000৳\n",
      "Western Digital 8TB 3.5\" PURPLE HDD WD80PUZX Hard Disk\n",
      "http://www.startech.com.bd/western-digital-8tb-purple-wd80puzx\n",
      " 28,000৳\n",
      "LG LG22MP68VQ-P 21.5 inch IPS Full HD Anti-Glare LED Monitor\n",
      "http://www.startech.com.bd/lg-22mp68vq-21.5-inch\n",
      " 11,600৳\n",
      "Dell Inspiron N3467 7th Gen Core i7 4GB Ram With Graphics 14.0\" Laptop\n",
      "http://www.startech.com.bd/dell-inspiron-n3467-i7-laptop\n",
      " 56,000৳\n",
      "HP EliteDisplay E233 23-inch FHD IPS Monitor\n",
      "http://www.startech.com.bd/hp-233-full-hd-monitor\n",
      " 16,300৳\n",
      "DELL OPTIPLEX 7050 Tower Core i7 7th Gen 8GB 1TB Brand PC\n",
      "http://www.startech.com.bd/dell-optiplex-7050-tower-i7-7th-gen-brand-pc\n",
      " 64,500৳\n",
      "DELL OPTIPLEX 5050 Tower Core i5 7th Gen 4GB DDR4 1TB Brand PC\n",
      "http://www.startech.com.bd/dell-optiplex-5050-tower-i5-7th-gen\n",
      " 45,000৳\n",
      "Dell Vostro 3668MT i5-7400 4GB-1TB Brand PC\n",
      "http://www.startech.com.bd/dell-vostro-3668-mt-i5-7th-gen-brand-pc\n",
      " 44,500৳\n",
      " Acer Aspire A315-51 7th gen Core I3 15.6\" Laptop\n",
      "http://www.startech.com.bd/acer-aspire-a315-51-7th-gen-i3-laptop\n",
      " 34,000৳\n",
      "Acer Aspire A515-51 7th Gen Core i5 8GB Ram With 4GB Graphics 15.6\" Full HD Laptop\n",
      "http://www.startech.com.bd/acer-aspire-a515-51-i5-4gb-graphics-laptop\n",
      " 72,000৳\n",
      "Dell Inspiron 5567 7th Gen Core i7 8GB Ram 2TB HDD With 4GB Graphics 15.6\" Laptop\n",
      "http://www.startech.com.bd/dell-inspiron-15-5567-2tb-hdd-laptop\n",
      " 68,500৳\n"
     ]
    }
   ],
   "source": [
    "for url in soup.find_all(class_=\"caption\"):\n",
    "   \n",
    "    print(url.h4.a.text)\n",
    "    print(url.h4.a.get('href'))\n",
    "    masud=url.find(class_=\"price-tax\")\n",
    "    print(masud.text[7:])"
   ]
  },
  {
   "cell_type": "markdown",
   "metadata": {},
   "source": []
  }
 ],
 "metadata": {
  "kernelspec": {
   "display_name": "Python 3",
   "language": "python",
   "name": "python3"
  },
  "language_info": {
   "codemirror_mode": {
    "name": "ipython",
    "version": 3
   },
   "file_extension": ".py",
   "mimetype": "text/x-python",
   "name": "python",
   "nbconvert_exporter": "python",
   "pygments_lexer": "ipython3",
   "version": "3.6.3"
  }
 },
 "nbformat": 4,
 "nbformat_minor": 2
}
