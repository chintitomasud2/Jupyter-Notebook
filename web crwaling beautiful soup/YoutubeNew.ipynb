{
 "cells": [
  {
   "cell_type": "code",
   "execution_count": 1,
   "metadata": {},
   "outputs": [],
   "source": [
    "from bs4 import BeautifulSoup as bs4\n",
    "import requests\n",
    "import pandas as pd"
   ]
  },
  {
   "cell_type": "code",
   "execution_count": 6,
   "metadata": {},
   "outputs": [
    {
     "data": {
      "text/plain": [
       "set"
      ]
     },
     "execution_count": 6,
     "metadata": {},
     "output_type": "execute_result"
    }
   ],
   "source": [
    "url='https://www.youtube.com/user/nigahiga/videos'\n",
    "totallinks=set()\n",
    "type(totallinks)"
   ]
  },
  {
   "cell_type": "code",
   "execution_count": 7,
   "metadata": {},
   "outputs": [],
   "source": [
    "data=requests.get(url)\n",
    "soup=bs4(data.text,'html.parser')"
   ]
  },
  {
   "cell_type": "code",
   "execution_count": 8,
   "metadata": {},
   "outputs": [],
   "source": [
    "allLinks=soup.find_all('a')"
   ]
  },
  {
   "cell_type": "code",
   "execution_count": 13,
   "metadata": {},
   "outputs": [],
   "source": [
    "for  links in allLinks:\n",
    "    link=links.get('href')\n",
    "    if link[0:3]=='/wa':\n",
    "        totallinks.add(\"https://www.youtube.com/\"+link)\n",
    "        \n",
    "        \n",
    "    \n",
    "     \n",
    "   \n",
    "    "
   ]
  },
  {
   "cell_type": "code",
   "execution_count": 14,
   "metadata": {},
   "outputs": [
    {
     "data": {
      "text/plain": [
       "30"
      ]
     },
     "execution_count": 14,
     "metadata": {},
     "output_type": "execute_result"
    }
   ],
   "source": [
    "len(totallinks)"
   ]
  },
  {
   "cell_type": "code",
   "execution_count": 11,
   "metadata": {},
   "outputs": [
    {
     "data": {
      "text/plain": [
       "{'https://www.youtube.com//watch?v=1Znl8OUBa_o',\n",
       " 'https://www.youtube.com//watch?v=4hqqFqcr1K8',\n",
       " 'https://www.youtube.com//watch?v=6zuGk80VS6k',\n",
       " 'https://www.youtube.com//watch?v=8GsG-hTG02A',\n",
       " 'https://www.youtube.com//watch?v=JBDWIGpKnwM',\n",
       " 'https://www.youtube.com//watch?v=JuT5Jjz68kE',\n",
       " 'https://www.youtube.com//watch?v=MUendT_dGks',\n",
       " 'https://www.youtube.com//watch?v=NlbOBx6vcJU',\n",
       " 'https://www.youtube.com//watch?v=QVNDjLfFxFU',\n",
       " 'https://www.youtube.com//watch?v=R_jKUDmJs1Y',\n",
       " 'https://www.youtube.com//watch?v=S9awbN2psDI',\n",
       " 'https://www.youtube.com//watch?v=SJlmVOG8qj8',\n",
       " 'https://www.youtube.com//watch?v=T6W1kA8BbEY',\n",
       " 'https://www.youtube.com//watch?v=ZCPwpcurYns',\n",
       " 'https://www.youtube.com//watch?v=ZrVo5lE359I',\n",
       " 'https://www.youtube.com//watch?v=d380meD0W0M',\n",
       " 'https://www.youtube.com//watch?v=dq37f5LUJgc',\n",
       " 'https://www.youtube.com//watch?v=gw6WIU5AF7k',\n",
       " 'https://www.youtube.com//watch?v=iwGP_FeheLM',\n",
       " 'https://www.youtube.com//watch?v=k82r2OoY9TM',\n",
       " 'https://www.youtube.com//watch?v=kum8asWPUkM',\n",
       " 'https://www.youtube.com//watch?v=pUWPmfrpq2Y',\n",
       " 'https://www.youtube.com//watch?v=pjagqAGyoS0',\n",
       " 'https://www.youtube.com//watch?v=slgjvpgeYeA',\n",
       " 'https://www.youtube.com//watch?v=tEG1Eo7OexY',\n",
       " 'https://www.youtube.com//watch?v=tugFFhML7VY',\n",
       " 'https://www.youtube.com//watch?v=uI8hzNEHku8',\n",
       " 'https://www.youtube.com//watch?v=unvjMsr4jY8',\n",
       " 'https://www.youtube.com//watch?v=x8RQd1csczU',\n",
       " 'https://www.youtube.com//watch?v=xM9S4QiEHEY'}"
      ]
     },
     "execution_count": 11,
     "metadata": {},
     "output_type": "execute_result"
    }
   ],
   "source": []
  },
  {
   "cell_type": "code",
   "execution_count": 47,
   "metadata": {},
   "outputs": [
    {
     "data": {
      "text/plain": [
       "RangeIndex(start=0, stop=100, step=1)"
      ]
     },
     "execution_count": 47,
     "metadata": {},
     "output_type": "execute_result"
    }
   ],
   "source": []
  },
  {
   "cell_type": "code",
   "execution_count": 44,
   "metadata": {},
   "outputs": [],
   "source": []
  },
  {
   "cell_type": "code",
   "execution_count": 45,
   "metadata": {},
   "outputs": [],
   "source": []
  },
  {
   "cell_type": "code",
   "execution_count": null,
   "metadata": {},
   "outputs": [],
   "source": []
  }
 ],
 "metadata": {
  "kernelspec": {
   "display_name": "Python 3",
   "language": "python",
   "name": "python3"
  },
  "language_info": {
   "codemirror_mode": {
    "name": "ipython",
    "version": 3
   },
   "file_extension": ".py",
   "mimetype": "text/x-python",
   "name": "python",
   "nbconvert_exporter": "python",
   "pygments_lexer": "ipython3",
   "version": "3.6.4"
  }
 },
 "nbformat": 4,
 "nbformat_minor": 2
}
