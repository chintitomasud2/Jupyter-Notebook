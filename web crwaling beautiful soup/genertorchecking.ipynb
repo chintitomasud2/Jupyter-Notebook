{
 "cells": [
  {
   "cell_type": "code",
   "execution_count": 2,
   "metadata": {},
   "outputs": [],
   "source": [
    "from bs4 import BeautifulSoup\n",
    "import pandas as pd"
   ]
  },
  {
   "cell_type": "code",
   "execution_count": 3,
   "metadata": {},
   "outputs": [],
   "source": [
    "import requests\n",
    "mylist=[]\n",
    "url=\"http://www.uiu.ac.bd/notices/page/1/\"\n",
    "data=requests.get(url)\n",
    "soup=BeautifulSoup(data.text,\"html.parser\")"
   ]
  },
  {
   "cell_type": "code",
   "execution_count": 11,
   "metadata": {},
   "outputs": [],
   "source": [
    "\n",
    "def alllinks():\n",
    "    for url in soup.find_all(class_=\"entry-title\"):\n",
    "         yield(url.a.get(\"href\"))\n",
    "    \n",
    "   "
   ]
  },
  {
   "cell_type": "code",
   "execution_count": 17,
   "metadata": {},
   "outputs": [],
   "source": [
    "mylist=list(alllinks())"
   ]
  },
  {
   "cell_type": "code",
   "execution_count": 18,
   "metadata": {},
   "outputs": [
    {
     "data": {
      "text/plain": [
       "['http://www.uiu.ac.bd/notices/collection-convocation-gowns/',\n",
       " 'http://www.uiu.ac.bd/notices/extension-time-register-uiu-transportation-service/',\n",
       " 'http://www.uiu.ac.bd/notices/we-are-hiring/',\n",
       " 'http://www.uiu.ac.bd/notices/extension-time-register-uiu-transportation-service-uiu-permanent-campus/',\n",
       " 'http://www.uiu.ac.bd/notices/holiday-notice_christmas-day-2017/',\n",
       " 'http://www.uiu.ac.bd/notices/holiday-notice_victory-day-2017/',\n",
       " 'http://www.uiu.ac.bd/notices/uiu-academic-administrative-activities-permanent-campus-spring-2018-trimester/',\n",
       " 'http://www.uiu.ac.bd/notices/holiday-notice_holy-eid-e-miladunnabi-2017/',\n",
       " 'http://www.uiu.ac.bd/notices/make-class-schedule-fall-2017-trimester/',\n",
       " 'http://www.uiu.ac.bd/notices/course-withdraw-fall-2017-sobe-sose/',\n",
       " 'http://www.uiu.ac.bd/notices/result-1st-admission-test-spring-2018/',\n",
       " 'http://www.uiu.ac.bd/notices/mid-term-exam-schedule-sose-sobe-fall-2017/',\n",
       " 'http://www.uiu.ac.bd/notices/extension-last-date-registration-5th-convocation-2018/']"
      ]
     },
     "execution_count": 18,
     "metadata": {},
     "output_type": "execute_result"
    }
   ],
   "source": [
    "#[print(i) for i in alllinks()]\n",
    "\n",
    "mylist"
   ]
  },
  {
   "cell_type": "code",
   "execution_count": null,
   "metadata": {},
   "outputs": [],
   "source": []
  }
 ],
 "metadata": {
  "kernelspec": {
   "display_name": "Python 3",
   "language": "python",
   "name": "python3"
  },
  "language_info": {
   "codemirror_mode": {
    "name": "ipython",
    "version": 3
   },
   "file_extension": ".py",
   "mimetype": "text/x-python",
   "name": "python",
   "nbconvert_exporter": "python",
   "pygments_lexer": "ipython3",
   "version": "3.6.3"
  }
 },
 "nbformat": 4,
 "nbformat_minor": 2
}
