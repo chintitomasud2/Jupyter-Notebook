{
 "cells": [
  {
   "cell_type": "code",
   "execution_count": 1,
   "metadata": {},
   "outputs": [],
   "source": [
    "from CustomModule.Crawler import * "
   ]
  },
  {
   "cell_type": "code",
   "execution_count": 2,
   "metadata": {},
   "outputs": [],
   "source": [
    "yahoo=Crawler(\"https://www.yahoo.com\")"
   ]
  },
  {
   "cell_type": "code",
   "execution_count": 7,
   "metadata": {},
   "outputs": [
    {
     "data": {
      "text/plain": [
       "<generator object Crawler.alllinksgenerator at 0x06823570>"
      ]
     },
     "execution_count": 7,
     "metadata": {},
     "output_type": "execute_result"
    }
   ],
   "source": [
    "yahoo.alllinksgenerator()"
   ]
  },
  {
   "cell_type": "code",
   "execution_count": 5,
   "metadata": {},
   "outputs": [
    {
     "name": "stdout",
     "output_type": "stream",
     "text": [
      "https://www.yahoo.com/\n",
      "https://mail.yahoo.com/\n",
      "https://www.flickr.com/\n",
      "https://www.tumblr.com/\n",
      "https://www.yahoo.com/entertainment/\n",
      "https://www.yahoo.com/lifestyle/\n",
      "https://mobile.yahoo.com/\n",
      "https://view.yahoo.com/?utm_source=yahoo&utm_medium=referral&utm_campaign=topbar\n",
      "https://www.yahoo.com/everything/\n",
      "https://www.yahoo.com/news/politics/\n",
      "https://answers.yahoo.com/\n",
      "https://groups.yahoo.com/\n",
      "https://www.yahoo.com/music/\n",
      "https://www.yahoo.com/tech/\n",
      "https://shopping.yahoo.com/\n",
      "#\n",
      "https://www.yahoo.com/\n",
      "https://login.yahoo.com/config/login?.src=fpctx&.intl=us&.lang=en-US&.done=https%3A%2F%2Fwww.yahoo.com\n",
      "https://mail.yahoo.com/\n",
      "https://login.yahoo.com/config/login?.src=fpctx&.intl=us&.lang=en-US&.done=https%3A%2F%2Fwww.yahoo.com\n",
      "#mega-bottombar-mail\n",
      "#Main\n",
      "#Aside\n",
      "https://mail.yahoo.com/\n",
      "https://www.yahoo.com/news/\n",
      "https://finance.yahoo.com/\n",
      "https://sports.yahoo.com/\n",
      "https://www.yahoo.com/news/politics/\n",
      "https://www.yahoo.com/entertainment/\n",
      "https://www.yahoo.com/lifestyle/\n",
      "https://www.yahoo.com/everything/\n",
      "https://www.yahoo.com/lifestyle/27-year-old-woman-dying-cancer-pens-heartbreaking-eye-opening-letter-224708485.html\n",
      "javascript:void(0)\n",
      "https://www.yahoo.com/lifestyle/27-year-old-woman-dying-cancer-pens-heartbreaking-eye-opening-letter-224708485.html\n",
      "https://www.yahoo.com/news/trumps-white-house-flattery-will-get-anywhere-191337600.html\n",
      "https://www.yahoo.com/news/stephen-miller-calls-steve-bannons-comments-touch-reality-vindictive-181446980.html\n",
      "https://sports.yahoo.com/bills-fans-mafia-invaded-jacksonville-glorious-192618810.html\n",
      "https://www.yahoo.com/news/sean-penn-leonardo-dicaprio-share-love-haiti-fundraiser-082224319.html\n",
      "https://finance.yahoo.com/news/stop-people-tracking-whether-youve-opened-email-194421221.html\n",
      "https://www.yahoo.com/lifestyle/m/08012ce1-ab2d-31ef-a36c-160b28982fa0/ss_see-inside-suzanne-somers%27s.html\n",
      "https://www.yahoo.com/lifestyle/m/08012ce1-ab2d-31ef-a36c-160b28982fa0/ss_see-inside-suzanne-somers%27s.html\n",
      "https://www.yahoo.com/lifestyle/m/08012ce1-ab2d-31ef-a36c-160b28982fa0/ss_see-inside-suzanne-somers%27s.html\n",
      "javascript:void(0)\n",
      "https://www.yahoo.com/news/ocean-floor-sinking-under-water-130002572.html\n",
      "https://www.yahoo.com/news/ocean-floor-sinking-under-water-130002572.html\n",
      "https://www.yahoo.com/news/ocean-floor-sinking-under-water-130002572.html\n",
      "javascript:void(0)\n",
      "https://www.yahoo.com/news/m/9b5cc31e-7cce-321d-ba1b-c903d24467e8/ss_the-extravagant-lives-of-the.html\n",
      "https://www.yahoo.com/news/m/9b5cc31e-7cce-321d-ba1b-c903d24467e8/ss_the-extravagant-lives-of-the.html\n",
      "https://www.yahoo.com/news/m/9b5cc31e-7cce-321d-ba1b-c903d24467e8/ss_the-extravagant-lives-of-the.html\n",
      "https://www.yahoo.com/news/latest-us-ambassador-world-watching-iran-204100026.html\n",
      "https://www.yahoo.com/news/m/381c9b57-681f-3bde-b6de-0f54f56bf384/ss_russia%3A-us-exploiting-iran.html\n",
      "https://www.yahoo.com/news/m/9b5cc31e-7cce-321d-ba1b-c903d24467e8/ss_the-extravagant-lives-of-the.html\n",
      "javascript:void(0)\n",
      "https://www.yahoo.com/entertainment/brad-pitt-bid-120-000-155447741.html\n",
      "https://www.yahoo.com/entertainment/brad-pitt-bid-120-000-155447741.html\n",
      "https://www.yahoo.com/entertainment/brad-pitt-bid-120-000-155447741.html\n",
      "https://www.yahoo.com/entertainment/m/a4f19516-cefc-350b-bd8c-94db73c64378/these-popular-actors-almost.html\n",
      "https://www.yahoo.com/entertainment/m/b37222de-03e3-3f7e-a1ce-822ccd7feb23/ss_%27game-of-thrones%27-star-kit.html\n",
      "https://www.yahoo.com/entertainment/brad-pitt-bid-120-000-155447741.html\n",
      "javascript:void(0)\n",
      "https://www.yahoo.com/news/why-google-taking-over-vegas-011900354.html\n",
      "https://www.yahoo.com/news/why-google-taking-over-vegas-011900354.html\n",
      "https://www.yahoo.com/news/why-google-taking-over-vegas-011900354.html\n",
      "https://www.yahoo.com/finance/m/ab1bf604-2a57-3fe6-82d7-5263ddd8471a/ss_ces-2017%3A-where-are-they-now%3F.html\n",
      "https://www.yahoo.com/finance/m/adcbdbe8-ee29-31a8-99ef-f31a3acab76f/first-look-at-coolest-tech-of.html\n",
      "https://www.yahoo.com/news/why-google-taking-over-vegas-011900354.html\n",
      "javascript:void(0)\n",
      "https://www.yahoo.com/news/m/49fd0936-80be-38ec-98f8-81f9196962af/ss_they-picked-up-luggage-at-the.html\n",
      "https://www.yahoo.com/news/m/49fd0936-80be-38ec-98f8-81f9196962af/ss_they-picked-up-luggage-at-the.html\n",
      "https://www.yahoo.com/news/m/49fd0936-80be-38ec-98f8-81f9196962af/ss_they-picked-up-luggage-at-the.html\n",
      "https://www.yahoo.com/news/m/38ff5b59-c17d-362b-a31d-6f0750ffeb9f/ss_water-leak-floods-crowded-jfk.html\n",
      "https://www.yahoo.com/news/m/61a2026a-ff1a-3394-8be0-87bcd2b68b0b/ss_delayed-flights-and-other.html\n",
      "https://www.yahoo.com/news/m/49fd0936-80be-38ec-98f8-81f9196962af/ss_they-picked-up-luggage-at-the.html\n",
      "javascript:void(0)\n",
      "https://www.yahoo.com/gma/video-captures-cruise-ship-tossed-120013893.html\n",
      "https://www.yahoo.com/gma/video-captures-cruise-ship-tossed-120013893.html\n",
      "https://www.yahoo.com/gma/video-captures-cruise-ship-tossed-120013893.html\n",
      "https://www.yahoo.com/news/m/72f458e2-27b0-3101-b21b-03022e736793/ss_some-of-the-snow-totals-from.html\n",
      "https://www.yahoo.com/entertainment/apos-bomb-cyclone-apos-stunned-215917308.html\n",
      "https://www.yahoo.com/gma/video-captures-cruise-ship-tossed-120013893.html\n",
      "javascript:void(0)\n",
      "https://search.yahoo.com/search?p=Simona+Halep&fr=fp-tts&fr2=p:fp,m:tn,ct:all,kt:org,pg:1,stl:crsl,b:\n",
      "https://search.yahoo.com/search?p=Polina+Edmunds&fr=fp-tts&fr2=p:fp,m:tn,ct:all,kt:org,pg:1,stl:crsl,b:\n",
      "https://search.yahoo.com/search?p=Eva+Longoria&fr=fp-tts&fr2=p:fp,m:tn,ct:all,kt:org,pg:1,stl:crsl,b:\n",
      "https://search.yahoo.com/search?p=Bill+Clinton&fr=fp-tts&fr2=p:fp,m:tn,ct:all,kt:org,pg:1,stl:crsl,b:\n",
      "https://search.yahoo.com/search?p=Molly+Bloom&fr=fp-tts&fr2=p:fp,m:tn,ct:all,kt:org,pg:1,stl:crsl,b:\n",
      "https://search.yahoo.com/search?p=Toyota+Highlander&fr=fp-tts&fr2=p:fp,m:tn,ct:all,kt:rev,pg:1,stl:crsl,b:\n",
      "https://search.yahoo.com/search?p=Zara+Tindall&fr=fp-tts&fr2=p:fp,m:tn,ct:all,kt:org,pg:1,stl:crsl,b:\n",
      "https://search.yahoo.com/search?p=Cheap+Airfares+Seniors&fr=fp-tts&fr2=p:fp,m:tn,ct:all,kt:rev,pg:1,stl:crsl,b:\n",
      "https://search.yahoo.com/search?p=Reese+Witherspoon&fr=fp-tts&fr2=p:fp,m:tn,ct:all,kt:org,pg:1,stl:crsl,b:\n",
      "https://search.yahoo.com/search?p=Microsoft+Office&fr=fp-tts&fr2=p:fp,m:tn,ct:all,kt:rev,pg:1,stl:crsl,b:\n",
      "https://overview.mail.yahoo.com/\n",
      "https://weather.yahoo.com\n",
      "https://weather.yahoo.com/bd/dhaka/dhaka-22503141/\n",
      "https://weather.yahoo.com/bd/dhaka/dhaka-22503141/\n",
      "https://weather.yahoo.com/bd/dhaka/dhaka-22503141/\n",
      "https://weather.yahoo.com/bd/dhaka/dhaka-22503141/\n",
      "https://view.yahoo.com/?utm_source=yahoo&utm_medium=referral&utm_campaign=fpmodule\n",
      "https://view.yahoo.com/show/the-good-place/episode/61033395/leap-to-faith-extended-cut/?utm_source=yahoo&utm_medium=referral&utm_campaign=fpmodule\n",
      "https://view.yahoo.com/show/superstore/episode/61033205/viral-video/?utm_source=yahoo&utm_medium=referral&utm_campaign=fpmodule\n",
      "https://view.yahoo.com/show/chicago-pd/episode/61032881/rabbit-hole/?utm_source=yahoo&utm_medium=referral&utm_campaign=fpmodule\n",
      "https://view.yahoo.com/show/law-and-order-special-victims-unit/episode/61032743/gone-baby-gone/?utm_source=yahoo&utm_medium=referral&utm_campaign=fpmodule\n",
      "https://view.yahoo.com/?utm_source=yahoo&utm_medium=referral&utm_campaign=fpmodule\n",
      "None\n",
      "None\n",
      "None\n",
      "https://sports.yahoo.com/nfl/buffalo-bills-jacksonville-jaguars-20180107030/\n",
      "https://sports.yahoo.com/nfl/carolina-panthers-new-orleans-saints-20180107018/\n",
      "https://sports.yahoo.com/nfl/atlanta-falcons-los-angeles-rams-20180106014/\n",
      "https://sports.yahoo.com/nfl/tennessee-titans-kansas-city-chiefs-20180106012/\n",
      "\n",
      "#\n",
      "http://www.yahoo.com/lifestyle/horoscope/capricorn/daily-20180107.html\n",
      "https://overview.mail.yahoo.com/\n",
      "https://baseball.fantasysports.yahoo.com/b1/signup\n",
      "http://info.yahoo.com/legal/us/yahoo/utos/terms/\n",
      "https://policies.yahoo.com/us/en/yahoo/privacy/index.htm\n",
      "https://advertising.yahoo.com/\n",
      "http://info.yahoo.com/privacy/us/yahoo/relevantads.html\n",
      "http://careers.yahoo.com/us\n",
      "http://help.yahoo.com/l/us/yahoo/helpcentral/\n",
      "https://yahoo.uservoice.com/forums/341361-yahoo-home\n"
     ]
    }
   ],
   "source": [
    "for i in yahoo.alllinksgenerator():\n",
    "    print(i)"
   ]
  },
  {
   "cell_type": "code",
   "execution_count": 4,
   "metadata": {},
   "outputs": [
    {
     "name": "stdout",
     "output_type": "stream",
     "text": [
      "empty list\n"
     ]
    }
   ],
   "source": [
    "yahoo.savetofile(\"hairegenerator.csv\")"
   ]
  },
  {
   "cell_type": "code",
   "execution_count": 5,
   "metadata": {},
   "outputs": [
    {
     "ename": "NameError",
     "evalue": "name 'mylist' is not defined",
     "output_type": "error",
     "traceback": [
      "\u001b[1;31m---------------------------------------------------------------------------\u001b[0m",
      "\u001b[1;31mNameError\u001b[0m                                 Traceback (most recent call last)",
      "\u001b[1;32m<ipython-input-5-787410b875dd>\u001b[0m in \u001b[0;36m<module>\u001b[1;34m()\u001b[0m\n\u001b[1;32m----> 1\u001b[1;33m \u001b[0mmylist\u001b[0m\u001b[1;33m\u001b[0m\u001b[0m\n\u001b[0m",
      "\u001b[1;31mNameError\u001b[0m: name 'mylist' is not defined"
     ]
    }
   ],
   "source": [
    "mylist"
   ]
  },
  {
   "cell_type": "code",
   "execution_count": 8,
   "metadata": {},
   "outputs": [
    {
     "data": {
      "text/plain": [
       "[]"
      ]
     },
     "execution_count": 8,
     "metadata": {},
     "output_type": "execute_result"
    }
   ],
   "source": [
    "yahoo.mylist"
   ]
  },
  {
   "cell_type": "code",
   "execution_count": null,
   "metadata": {},
   "outputs": [],
   "source": []
  }
 ],
 "metadata": {
  "kernelspec": {
   "display_name": "Python 3",
   "language": "python",
   "name": "python3"
  },
  "language_info": {
   "codemirror_mode": {
    "name": "ipython",
    "version": 3
   },
   "file_extension": ".py",
   "mimetype": "text/x-python",
   "name": "python",
   "nbconvert_exporter": "python",
   "pygments_lexer": "ipython3",
   "version": "3.6.3"
  }
 },
 "nbformat": 4,
 "nbformat_minor": 2
}
