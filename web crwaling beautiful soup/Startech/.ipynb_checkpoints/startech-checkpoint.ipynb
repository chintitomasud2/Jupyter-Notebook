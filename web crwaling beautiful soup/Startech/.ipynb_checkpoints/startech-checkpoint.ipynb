{
 "cells": [
  {
   "cell_type": "code",
   "execution_count": 40,
   "metadata": {},
   "outputs": [],
   "source": [
    "#Request and Beautifulsoup Declaration and url\n",
    "from bs4 import BeautifulSoup \n",
    "import requests\n",
    "url=\"http://www.startech.com.bd\"\n",
    "url2=\"http://www.startech.com.bd/laptop-notebook/laptop/asus-laptop\"\n",
    "req=requests.get(url2)\n"
   ]
  },
  {
   "cell_type": "code",
   "execution_count": null,
   "metadata": {},
   "outputs": [],
   "source": [
    "print(req.text)"
   ]
  },
  {
   "cell_type": "code",
   "execution_count": 37,
   "metadata": {},
   "outputs": [],
   "source": [
    "# Parsing \n",
    "soup = BeautifulSoup(req.text, 'lxml')"
   ]
  },
  {
   "cell_type": "code",
   "execution_count": null,
   "metadata": {},
   "outputs": [],
   "source": [
    "#whole link\n",
    "print(soup.find_all(\"a\"))"
   ]
  },
  {
   "cell_type": "code",
   "execution_count": null,
   "metadata": {},
   "outputs": [],
   "source": [
    "#whole link\n",
    "\n",
    "for url in soup.find_all(\"a\"):\n",
    "    print(url.get(\"href\"))\n"
   ]
  },
  {
   "cell_type": "code",
   "execution_count": 17,
   "metadata": {},
   "outputs": [
    {
     "name": "stdout",
     "output_type": "stream",
     "text": [
      "https://www.facebook.com/star.tech.ltd\n",
      "https://plus.google.com/u/0/113376293895212214277\n"
     ]
    }
   ],
   "source": [
    "#Facebook Link\n",
    "for url in soup.find_all(class_=\"facebook\"):\n",
    "    print(url.get('href'))\n"
   ]
  },
  {
   "cell_type": "code",
   "execution_count": 39,
   "metadata": {},
   "outputs": [
    {
     "name": "stdout",
     "output_type": "stream",
     "text": [
      "ASUS TP201SA-N3710 11.6\" Celeron Dual Core\n",
      "http://www.startech.com.bd/asus-tp201sa-n3710-11.6-celeron-dual-core\n",
      " 28,500৳\n",
      "Asus X441NA Intel Celeron Duel Core N3350 Notebook \n",
      "http://www.startech.com.bd/asus-x441na-intel-cdc-n3350-notebook \n",
      " 21,500৳\n",
      "ASUS X540YA-E1-7010 Dual Core Low Budget Laptop\n",
      "http://www.startech.com.bd/asus-x540ya\n",
      " 21,300৳\n",
      "ASUS X441NA N4200 Intel Pentium Quad Core 14\" VivoBook\n",
      "http://www.startech.com.bd/asus-x441na\n",
      " 26,000৳\n",
      "ASUS E203NAH N4200 Intel Pentium Quad Core 11.6\" VivoBook\n",
      "http://www.startech.com.bd/asus-e203nah-vivobook\n",
      " 26,100৳\n",
      "ASUS P2430UA-6006U i3 6th Gen Laptop\n",
      "http://www.startech.com.bd/asus-p2430ua-6006u\n",
      " 33,500৳\n",
      "Asus X441UA 6006U 6th Gen i3 Laptop\n",
      "http://www.startech.com.bd/asus-x441ua-6006u\n",
      " 30,500৳\n",
      "Asus X441UA 6100U 6th Gen i3 Laptop\n",
      "http://www.startech.com.bd/asus-x441ua\n",
      " 33,000৳\n",
      "Asus X441UA-7100U Core I3 7th gen Laptop\n",
      "http://www.startech.com.bd/asus-x441ua-7100u-laptop\n",
      " 34,000৳\n",
      "Asus X442UA-7100U Core i3 7th gen Laptop\n",
      "http://www.startech.com.bd/asus-x442ua-i3-7th-gen-laptop\n",
      " 35,500৳\n",
      "Asus X541UV-6100U 6th Gen i3 Laptop\n",
      "http://www.startech.com.bd/asus-x541uv-3\n",
      " 38,300৳\n",
      "Asus X556UA-7100U Core i3 7th Gen 15.6\" Display Laptop\n",
      "http://www.startech.com.bd/asus-x556ua-7100u-core-i3\n",
      " 37,500৳\n",
      "Asus P2530UJ Core i3 6th Gen 15.6\" Display Laptop\n",
      "http://www.startech.com.bd/asus-p2530uj-i3\n",
      " 42,500৳\n",
      "ASUS P2440UA-7100U 7th Gen i3 14.0\" Full HD Laptop\n",
      "http://www.startech.com.bd/asus-p2440ua-7100u-7th-gen-i3\n",
      " 37,500৳\n",
      "Asus X540UP-7100U Core i3 7th Gen Laptop\n",
      "http://www.startech.com.bd/asus-x540up-7100u-7th-gen-laptop\n",
      " 38,300৳\n",
      "Asus X542UR-7100U Core i3 7th Gen 15.6\" Graphics Laptop\n",
      "http://www.startech.com.bd/asus-x542ur-i3-graphics-laptop\n",
      " 40,000৳\n",
      "ASUS X556UR-7100U Core i3 7th Gen Graphics Laptop\n",
      "http://www.startech.com.bd/asus-x556ur-7100u-core-i3-7th-gen\n",
      " 39,500৳\n",
      "ASUS ZenBook UX310UA i3 13.3\" Laptop \n",
      "http://www.startech.com.bd/asus-zenbook-ux310ua\n",
      " 41,300৳\n",
      "Asus Pro P2540UV Core i3 GeForce 2GB Graphics 15.6\" Laptop\n",
      "http://www.startech.com.bd/asuspro-p2540uv\n",
      " 41,500৳\n",
      "Asus VivoBook S510UR Core i3 GeForce 2GB Graphics 15.6\" Laptop\n",
      "http://www.startech.com.bd/asus-vivobook-s15-s510ur\n",
      " 44,300৳\n",
      "ASUS ZenBook UX410UA i3 14.0\" Laptop \n",
      "http://www.startech.com.bd/asus-zenbook-ux410ua\n",
      " 42,000৳\n"
     ]
    }
   ],
   "source": [
    "for url in soup.find_all(class_=\"caption\"):\n",
    "   \n",
    "    print(url.h4.a.text)\n",
    "    print(url.h4.a.get('href'))\n",
    "    masud=url.find(class_=\"price-tax\")\n",
    "    print(masud.text[7:])"
   ]
  },
  {
   "cell_type": "markdown",
   "metadata": {},
   "source": []
  }
 ],
 "metadata": {
  "kernelspec": {
   "display_name": "Python 3",
   "language": "python",
   "name": "python3"
  },
  "language_info": {
   "codemirror_mode": {
    "name": "ipython",
    "version": 3
   },
   "file_extension": ".py",
   "mimetype": "text/x-python",
   "name": "python",
   "nbconvert_exporter": "python",
   "pygments_lexer": "ipython3",
   "version": "3.6.4"
  }
 },
 "nbformat": 4,
 "nbformat_minor": 2
}
