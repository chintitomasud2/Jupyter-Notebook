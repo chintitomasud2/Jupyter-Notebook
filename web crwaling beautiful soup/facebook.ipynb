{
 "cells": [
  {
   "cell_type": "code",
   "execution_count": 16,
   "metadata": {},
   "outputs": [
    {
     "name": "stdout",
     "output_type": "stream",
     "text": [
      "https://www.facebook.com/mamunarrashidbd?fref=fr_tab\n",
      "https://www.facebook.com/dstonmoysaha?fref=fr_tab\n",
      "https://www.facebook.com/saju.hossain.73?fref=fr_tab\n",
      "https://www.facebook.com/newaz.sharif.7739?fref=fr_tab\n",
      "https://www.facebook.com/rabiulkarim.rabi.7?fref=fr_tab\n",
      "https://www.facebook.com/abdullah.alamin.100?fref=fr_tab\n",
      "https://www.facebook.com/nafis.haider.16?fref=fr_tab\n",
      "https://www.facebook.com/mahmuda.orin?fref=fr_tab\n",
      "https://www.facebook.com/md.alimran.923?fref=fr_tab\n",
      "https://www.facebook.com/shamim.shuvo.12?fref=fr_tab\n",
      "https://www.facebook.com/profile.php?id=100011497754031&fref=fr_tab\n",
      "https://www.facebook.com/JAKSnROSES?fref=fr_tab\n",
      "https://www.facebook.com/zannatmeem?fref=fr_tab\n",
      "https://www.facebook.com/smjabidhasan?fref=fr_tab\n",
      "https://www.facebook.com/FakeyBoy?fref=fr_tab\n",
      "https://www.facebook.com/eshita.reshma?fref=fr_tab\n",
      "https://www.facebook.com/mahmudul.islam.92?fref=fr_tab\n",
      "https://www.facebook.com/KumarSagarTutul?fref=fr_tab\n",
      "https://www.facebook.com/large.egg/friends?mutual=1&lst=100006066373294%3A1533857980%3A1512741327&startindex=24\n",
      "https://www.facebook.com/a/language.php?l=bn_IN&lref=https%3A%2F%2Fmbasic.facebook.com%2Flarge.egg%2Ffriends&index=2&gfid=AQBVQeNssqvdM_FQ&ref_component=mbasic_footer&ref_page=%2Fwap%2Fprofile_timeline.php%3Afriends\n",
      "https://www.facebook.com/a/language.php?l=es_LA&lref=https%3A%2F%2Fmbasic.facebook.com%2Flarge.egg%2Ffriends&index=4&gfid=AQDeAs5-XXmFpbcc&ref_component=mbasic_footer&ref_page=%2Fwap%2Fprofile_timeline.php%3Afriends\n",
      "https://www.facebook.com/a/language.php?l=en_US&lref=https%3A%2F%2Fmbasic.facebook.com%2Flarge.egg%2Ffriends&index=1&gfid=AQBuAdnvaRenBlsI&ref_component=mbasic_footer&ref_page=%2Fwap%2Fprofile_timeline.php%3Afriends\n",
      "https://www.facebook.com/a/language.php?l=as_IN&lref=https%3A%2F%2Fmbasic.facebook.com%2Flarge.egg%2Ffriends&index=3&gfid=AQDE7ROKiDUJKiSn&ref_component=mbasic_footer&ref_page=%2Fwap%2Fprofile_timeline.php%3Afriends\n",
      "https://www.facebook.com/language.php?n=https%3A%2F%2Fmbasic.facebook.com%2Flarge.egg%2Ffriends&ref_component=mbasic_footer&ref_page=%2Fwap%2Fprofile_timeline.php%3Afriends\n",
      "https://www.facebook.com/pages/create/?ref_type=site_footer&ref_component=mbasic_footer&ref_page=%2Fwap%2Fprofile_timeline.php%3Afriends\n",
      "https://www.facebook.com/help/?ref_component=mbasic_footer&ref_page=%2Fwap%2Fprofile_timeline.php%3Afriends\n",
      "https://www.facebook.com/settings/?ref_component=mbasic_footer&ref_page=%2Fwap%2Fprofile_timeline.php%3Afriends\n",
      "https://www.facebook.com/bugnub/?source=Footer&ref_component=mbasic_footer&ref_page=%2Fwap%2Fprofile_timeline.php%3Afriends\n",
      "https://www.facebook.com/policies/?ref_component=mbasic_footer&ref_page=%2Fwap%2Fprofile_timeline.php%3Afriends\n",
      "https://www.facebook.com/logout.php?h=Afd_wXUSff2hU3Yt&t=1512741328&button_name=logout&button_location=footer&ref_component=mbasic_footer&ref_page=%2Fwap%2Fprofile_timeline.php%3Afriends\n",
      "https://www.facebook.com#header\n"
     ]
    }
   ],
   "source": [
    "import http.cookiejar\n",
    "import urllib.request\n",
    "import requests\n",
    "import bs4\n",
    "\n",
    "# Store the cookies and create an opener that will hold them\n",
    "cj = http.cookiejar.CookieJar()\n",
    "opener = urllib.request.build_opener(urllib.request.HTTPCookieProcessor(cj))\n",
    "\n",
    "# Add our headers\n",
    "opener.addheaders = [('User-agent', 'dfdf')]\n",
    "\n",
    "# Install our opener (note that this changes the global opener to the one\n",
    "# we just made, but you can also just call opener.open() if you want)\n",
    "urllib.request.install_opener(opener)\n",
    "\n",
    "# The action/ target from the form\n",
    "authentication_url = 'https://m.facebook.com/login.php'\n",
    "\n",
    "# Input parameters we are going to send\n",
    "payload = {\n",
    "  'email': 'chintitomasud@yahoo.com',\n",
    "  'pass': 'a@913327401670293042'\n",
    "  }\n",
    "\n",
    "# Use urllib to encode the payload\n",
    "data = urllib.parse.urlencode(payload).encode(\"utf-8\")\n",
    "\n",
    "# Build our Request object (supplying 'data' makes it a POST)\n",
    "req = urllib.request.Request(authentication_url, data)\n",
    "\n",
    "# Make the request and read the response\n",
    "resp = urllib.request.urlopen(req)\n",
    "contents = resp.read()\n",
    "\n",
    "url = \"https://mbasic.facebook.com/large.egg/friends\"\n",
    "data = requests.get(url, cookies=cj)\n",
    "soup = bs4.BeautifulSoup(data.text, 'html.parser')\n",
    "\n",
    "z = 0\n",
    "for i in soup.find_all('a'):\n",
    "    if z>16:\n",
    "        print(\"https://www.facebook.com\"+i.get('href'))\n",
    "    z=z+1\n",
    "    "
   ]
  },
  {
   "cell_type": "code",
   "execution_count": null,
   "metadata": {},
   "outputs": [],
   "source": []
  }
 ],
 "metadata": {
  "kernelspec": {
   "display_name": "Python 3",
   "language": "python",
   "name": "python3"
  },
  "language_info": {
   "codemirror_mode": {
    "name": "ipython",
    "version": 3
   },
   "file_extension": ".py",
   "mimetype": "text/x-python",
   "name": "python",
   "nbconvert_exporter": "python",
   "pygments_lexer": "ipython3",
   "version": "3.6.3"
  }
 },
 "nbformat": 4,
 "nbformat_minor": 2
}
