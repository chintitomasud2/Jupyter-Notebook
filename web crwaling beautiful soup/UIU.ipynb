{
 "cells": [
  {
   "cell_type": "code",
   "execution_count": 6,
   "metadata": {},
   "outputs": [],
   "source": [
    "from bs4 import BeautifulSoup\n",
    "import pandas as pd"
   ]
  },
  {
   "cell_type": "code",
   "execution_count": 7,
   "metadata": {},
   "outputs": [],
   "source": [
    "import requests"
   ]
  },
  {
   "cell_type": "code",
   "execution_count": 8,
   "metadata": {},
   "outputs": [],
   "source": [
    "url=\"http://www.uiu.ac.bd/notices/page/1/\"\n",
    "data=requests.get(url)\n",
    "soup=BeautifulSoup(data.text,\"html.parser\")"
   ]
  },
  {
   "cell_type": "code",
   "execution_count": 10,
   "metadata": {},
   "outputs": [],
   "source": [
    "mylist=set()\n",
    "\n",
    "\n"
   ]
  },
  {
   "cell_type": "code",
   "execution_count": null,
   "metadata": {},
   "outputs": [],
   "source": []
  },
  {
   "cell_type": "code",
   "execution_count": 11,
   "metadata": {},
   "outputs": [
    {
     "name": "stdout",
     "output_type": "stream",
     "text": [
      "Collection of Convocation Gowns (Revised)\n",
      "http://www.uiu.ac.bd/notices/collection-convocation-gowns/\n",
      "Further Extension of Time to Register for UIU Transportation Service\n",
      "http://www.uiu.ac.bd/notices/extension-time-register-uiu-transportation-service/\n",
      "We are Hiring\n",
      "http://www.uiu.ac.bd/notices/we-are-hiring/\n",
      "Extension of Time to register for UIU Transportation Service to & from UIU Permanent Campus\n",
      "http://www.uiu.ac.bd/notices/extension-time-register-uiu-transportation-service-uiu-permanent-campus/\n",
      "HOLIDAY NOTICE_CHRISTMAS DAY\n",
      "http://www.uiu.ac.bd/notices/holiday-notice_christmas-day-2017/\n",
      "Holiday Notice_Victory Day\n",
      "http://www.uiu.ac.bd/notices/holiday-notice_victory-day-2017/\n",
      "UIU Academic & Administrative Activities at Permanent Campus from Spring 2018 Trimester\n",
      "http://www.uiu.ac.bd/notices/uiu-academic-administrative-activities-permanent-campus-spring-2018-trimester/\n",
      "HOLIDAY NOTICE_HOLY EID-E-MILADUNNABI\n",
      "http://www.uiu.ac.bd/notices/holiday-notice_holy-eid-e-miladunnabi-2017/\n",
      "Make-up Class Schedule Fall 2017 Trimester\n",
      "http://www.uiu.ac.bd/notices/make-class-schedule-fall-2017-trimester/\n",
      "Course Withdraw Fall 2017 for SoBE & SoSE\n",
      "http://www.uiu.ac.bd/notices/course-withdraw-fall-2017-sobe-sose/\n",
      "RESULT OF 1st ADMISSION TEST – SPRING 2018\n",
      "http://www.uiu.ac.bd/notices/result-1st-admission-test-spring-2018/\n",
      "Mid-term Exam Schedule For SoSE & SoBE, Fall 2017\n",
      "http://www.uiu.ac.bd/notices/mid-term-exam-schedule-sose-sobe-fall-2017/\n",
      "Extension of the last date of Registration: 5th CONVOCATION 2018\n",
      "http://www.uiu.ac.bd/notices/extension-last-date-registration-5th-convocation-2018/\n"
     ]
    }
   ],
   "source": [
    "for url in soup.find_all(class_=\"entry-title\"):\n",
    "    print(url.text)\n",
    "    mylist.add(url.text)\n",
    "    print(url.a.get(\"href\"))"
   ]
  },
  {
   "cell_type": "code",
   "execution_count": 63,
   "metadata": {},
   "outputs": [
    {
     "data": {
      "text/plain": [
       "['HOLIDAY NOTICE_CHRISTMAS DAY',\n",
       " 'Extension of Time to register for UIU Transportation Service to & from UIU Permanent Campus',\n",
       " 'RESULT OF 1st ADMISSION TEST – SPRING 2018',\n",
       " 'Mid-term Exam Schedule For SoSE & SoBE, Fall 2017',\n",
       " 'SANCTIONING OF 100% TUITION FEE WAIVER UNDER  FREEDOM FIGHTERS’ CHILDREN QUOTA',\n",
       " 'Further Extension of the Last Date of Registration (With Late Fine) Fall 2017',\n",
       " 'List of Scholarship Recipients for Fall 2017 Trimester',\n",
       " 'Course Withdraw Fall 2017 for SoBE & SoSE',\n",
       " 'Make-up Class Schedule Fall 2017 Trimester',\n",
       " 'Holiday Notice_Victory Day',\n",
       " 'UIU Academic & Administrative Activities at Permanent Campus from Spring 2018 Trimester',\n",
       " 'HOLIDAY NOTICE_HOLY EID-E-MILADUNNABI',\n",
       " 'Extension of the last date of Registration: 5th CONVOCATION 2018']"
      ]
     },
     "execution_count": 63,
     "metadata": {},
     "output_type": "execute_result"
    }
   ],
   "source": [
    "mylist\n",
    "type(mylist)\n",
    "list(mylist)"
   ]
  },
  {
   "cell_type": "code",
   "execution_count": 64,
   "metadata": {},
   "outputs": [],
   "source": [
    "haire=pd.DataFrame(list(mylist))"
   ]
  },
  {
   "cell_type": "code",
   "execution_count": 65,
   "metadata": {},
   "outputs": [],
   "source": [
    "haire.to_csv(\"uiu_notice.csv\")"
   ]
  },
  {
   "cell_type": "code",
   "execution_count": null,
   "metadata": {},
   "outputs": [],
   "source": []
  }
 ],
 "metadata": {
  "kernelspec": {
   "display_name": "Python 3",
   "language": "python",
   "name": "python3"
  },
  "language_info": {
   "codemirror_mode": {
    "name": "ipython",
    "version": 3
   },
   "file_extension": ".py",
   "mimetype": "text/x-python",
   "name": "python",
   "nbconvert_exporter": "python",
   "pygments_lexer": "ipython3",
   "version": "3.6.3"
  }
 },
 "nbformat": 4,
 "nbformat_minor": 2
}
